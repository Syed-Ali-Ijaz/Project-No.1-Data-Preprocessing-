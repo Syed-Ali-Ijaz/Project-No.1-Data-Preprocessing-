{
 "cells": [
  {
   "cell_type": "markdown",
   "id": "a51a1d93-afb8-4798-9016-ba57af07aae8",
   "metadata": {},
   "source": [
    "# DATA PREPROCESSING\n",
    "##### Data preprocessing is the process of transforming raw data into a clean and organized format that is suitable for analysis or machine learning. It involves a series of steps that prepare the data by handling issues"
   ]
  },
  {
   "cell_type": "markdown",
   "id": "42f94516-8333-4f8e-bdd8-ec72a3c0e6b8",
   "metadata": {},
   "source": [
    "- **`matplotlib.pyplot`**: A widely-used library for creating static, interactive, and animated visualizations in Python.\n",
    "- **`seaborn`**: Built on top of matplotlib, Seaborn provides a high-level interface for drawing attractive and informative statistical graphics.\n",
    "- **`sns.color_palette()`**: This function is used to set a color palette for Seaborn plots, enhancing their visual appearance.\n",
    "- **`numpy`**: A fundamental package for scientific computing with support for large, multi-dimensional arrays and matrices, along with a collection of mathematical functions.\n",
    "- **`pandas`**: A powerful data manipulation and analysis library that provides data structures like Series and DataFrames for handling structured data efficiently.\n"
   ]
  },
  {
   "cell_type": "code",
   "execution_count": 2,
   "id": "4b918683-22b6-4aba-a268-844b9c63f6d9",
   "metadata": {},
   "outputs": [],
   "source": [
    "import matplotlib.pyplot as plt\n",
    "import seaborn as sns \n",
    "color = sns.color_palette()\n",
    "import numpy as np \n",
    "import pandas as pd "
   ]
  },
  {
   "cell_type": "markdown",
   "id": "e952ed8d-c1fd-4934-a1e1-43bbf890f2ad",
   "metadata": {},
   "source": [
    "# 1: Reading Data "
   ]
  },
  {
   "cell_type": "markdown",
   "id": "6a28d9c7-54de-46fd-b05e-789dbe41e6a4",
   "metadata": {},
   "source": [
    "- **`pd.read_csv('st.csv')`**: Loads the echocardiogram data from the specified CSV file.\n",
    "- **`data.head()`**: Displays the first five rows of the dataset to give a quick overview of the data, including its columns and some initial values.\n"
   ]
  },
  {
   "cell_type": "code",
   "execution_count": 4,
   "id": "fab850a2-2e55-4f9e-a85e-ca74923de682",
   "metadata": {},
   "outputs": [
    {
     "data": {
      "text/html": [
       "<div>\n",
       "<style scoped>\n",
       "    .dataframe tbody tr th:only-of-type {\n",
       "        vertical-align: middle;\n",
       "    }\n",
       "\n",
       "    .dataframe tbody tr th {\n",
       "        vertical-align: top;\n",
       "    }\n",
       "\n",
       "    .dataframe thead th {\n",
       "        text-align: right;\n",
       "    }\n",
       "</style>\n",
       "<table border=\"1\" class=\"dataframe\">\n",
       "  <thead>\n",
       "    <tr style=\"text-align: right;\">\n",
       "      <th></th>\n",
       "      <th>gender</th>\n",
       "      <th>race/ethnicity</th>\n",
       "      <th>parental level of education</th>\n",
       "      <th>lunch</th>\n",
       "      <th>test preparation course</th>\n",
       "      <th>math score</th>\n",
       "      <th>reading score</th>\n",
       "      <th>writing score</th>\n",
       "    </tr>\n",
       "  </thead>\n",
       "  <tbody>\n",
       "    <tr>\n",
       "      <th>0</th>\n",
       "      <td>female</td>\n",
       "      <td>group B</td>\n",
       "      <td>bachelor's degree</td>\n",
       "      <td>standard</td>\n",
       "      <td>none</td>\n",
       "      <td>72</td>\n",
       "      <td>72</td>\n",
       "      <td>74</td>\n",
       "    </tr>\n",
       "    <tr>\n",
       "      <th>1</th>\n",
       "      <td>female</td>\n",
       "      <td>group C</td>\n",
       "      <td>some college</td>\n",
       "      <td>standard</td>\n",
       "      <td>completed</td>\n",
       "      <td>69</td>\n",
       "      <td>90</td>\n",
       "      <td>88</td>\n",
       "    </tr>\n",
       "    <tr>\n",
       "      <th>2</th>\n",
       "      <td>female</td>\n",
       "      <td>group B</td>\n",
       "      <td>master's degree</td>\n",
       "      <td>standard</td>\n",
       "      <td>none</td>\n",
       "      <td>90</td>\n",
       "      <td>95</td>\n",
       "      <td>93</td>\n",
       "    </tr>\n",
       "    <tr>\n",
       "      <th>3</th>\n",
       "      <td>male</td>\n",
       "      <td>group A</td>\n",
       "      <td>associate's degree</td>\n",
       "      <td>free/reduced</td>\n",
       "      <td>none</td>\n",
       "      <td>47</td>\n",
       "      <td>57</td>\n",
       "      <td>44</td>\n",
       "    </tr>\n",
       "    <tr>\n",
       "      <th>4</th>\n",
       "      <td>male</td>\n",
       "      <td>group C</td>\n",
       "      <td>some college</td>\n",
       "      <td>standard</td>\n",
       "      <td>none</td>\n",
       "      <td>76</td>\n",
       "      <td>78</td>\n",
       "      <td>75</td>\n",
       "    </tr>\n",
       "  </tbody>\n",
       "</table>\n",
       "</div>"
      ],
      "text/plain": [
       "   gender race/ethnicity parental level of education         lunch  \\\n",
       "0  female        group B           bachelor's degree      standard   \n",
       "1  female        group C                some college      standard   \n",
       "2  female        group B             master's degree      standard   \n",
       "3    male        group A          associate's degree  free/reduced   \n",
       "4    male        group C                some college      standard   \n",
       "\n",
       "  test preparation course  math score  reading score  writing score  \n",
       "0                    none          72             72             74  \n",
       "1               completed          69             90             88  \n",
       "2                    none          90             95             93  \n",
       "3                    none          47             57             44  \n",
       "4                    none          76             78             75  "
      ]
     },
     "execution_count": 4,
     "metadata": {},
     "output_type": "execute_result"
    }
   ],
   "source": [
    "data = pd.read_csv('st.csv')\n",
    "data.head()"
   ]
  },
  {
   "cell_type": "markdown",
   "id": "7778ca63-78f7-44b8-afe7-80cffeaaf5e9",
   "metadata": {},
   "source": [
    "- **data.tail()**\n",
    "- Quickly checking the structure and values at the bottom of the dataset.\n",
    "- Verifying data entry at the end (e.g., after data cleaning or appending).\n",
    "- Understanding how the dataset ends, including any potential anomalies or missing values."
   ]
  },
  {
   "cell_type": "code",
   "execution_count": 5,
   "id": "c7eca348-4c5d-4b76-aac9-1f8e2df8e661",
   "metadata": {},
   "outputs": [
    {
     "data": {
      "text/html": [
       "<div>\n",
       "<style scoped>\n",
       "    .dataframe tbody tr th:only-of-type {\n",
       "        vertical-align: middle;\n",
       "    }\n",
       "\n",
       "    .dataframe tbody tr th {\n",
       "        vertical-align: top;\n",
       "    }\n",
       "\n",
       "    .dataframe thead th {\n",
       "        text-align: right;\n",
       "    }\n",
       "</style>\n",
       "<table border=\"1\" class=\"dataframe\">\n",
       "  <thead>\n",
       "    <tr style=\"text-align: right;\">\n",
       "      <th></th>\n",
       "      <th>gender</th>\n",
       "      <th>race/ethnicity</th>\n",
       "      <th>parental level of education</th>\n",
       "      <th>lunch</th>\n",
       "      <th>test preparation course</th>\n",
       "      <th>math score</th>\n",
       "      <th>reading score</th>\n",
       "      <th>writing score</th>\n",
       "    </tr>\n",
       "  </thead>\n",
       "  <tbody>\n",
       "    <tr>\n",
       "      <th>995</th>\n",
       "      <td>female</td>\n",
       "      <td>group E</td>\n",
       "      <td>master's degree</td>\n",
       "      <td>standard</td>\n",
       "      <td>completed</td>\n",
       "      <td>88</td>\n",
       "      <td>99</td>\n",
       "      <td>95</td>\n",
       "    </tr>\n",
       "    <tr>\n",
       "      <th>996</th>\n",
       "      <td>male</td>\n",
       "      <td>group C</td>\n",
       "      <td>high school</td>\n",
       "      <td>free/reduced</td>\n",
       "      <td>none</td>\n",
       "      <td>62</td>\n",
       "      <td>55</td>\n",
       "      <td>55</td>\n",
       "    </tr>\n",
       "    <tr>\n",
       "      <th>997</th>\n",
       "      <td>female</td>\n",
       "      <td>group C</td>\n",
       "      <td>high school</td>\n",
       "      <td>free/reduced</td>\n",
       "      <td>completed</td>\n",
       "      <td>59</td>\n",
       "      <td>71</td>\n",
       "      <td>65</td>\n",
       "    </tr>\n",
       "    <tr>\n",
       "      <th>998</th>\n",
       "      <td>female</td>\n",
       "      <td>group D</td>\n",
       "      <td>some college</td>\n",
       "      <td>standard</td>\n",
       "      <td>completed</td>\n",
       "      <td>68</td>\n",
       "      <td>78</td>\n",
       "      <td>77</td>\n",
       "    </tr>\n",
       "    <tr>\n",
       "      <th>999</th>\n",
       "      <td>female</td>\n",
       "      <td>group D</td>\n",
       "      <td>some college</td>\n",
       "      <td>free/reduced</td>\n",
       "      <td>none</td>\n",
       "      <td>77</td>\n",
       "      <td>86</td>\n",
       "      <td>86</td>\n",
       "    </tr>\n",
       "  </tbody>\n",
       "</table>\n",
       "</div>"
      ],
      "text/plain": [
       "     gender race/ethnicity parental level of education         lunch  \\\n",
       "995  female        group E             master's degree      standard   \n",
       "996    male        group C                 high school  free/reduced   \n",
       "997  female        group C                 high school  free/reduced   \n",
       "998  female        group D                some college      standard   \n",
       "999  female        group D                some college  free/reduced   \n",
       "\n",
       "    test preparation course  math score  reading score  writing score  \n",
       "995               completed          88             99             95  \n",
       "996                    none          62             55             55  \n",
       "997               completed          59             71             65  \n",
       "998               completed          68             78             77  \n",
       "999                    none          77             86             86  "
      ]
     },
     "execution_count": 5,
     "metadata": {},
     "output_type": "execute_result"
    }
   ],
   "source": [
    "data.tail()"
   ]
  },
  {
   "cell_type": "markdown",
   "id": "c962ea27-dbd2-4ac4-bb49-4fda4b13fe41",
   "metadata": {},
   "source": [
    "- **data.shape**\n",
    "- The first value represents the number of rows (data entries).\n",
    "- The second value represents the number of columns (features or variables)."
   ]
  },
  {
   "cell_type": "code",
   "execution_count": 6,
   "id": "44b459b2-ba7f-41d1-8869-b896a4af894e",
   "metadata": {},
   "outputs": [
    {
     "data": {
      "text/plain": [
       "(1000, 8)"
      ]
     },
     "execution_count": 6,
     "metadata": {},
     "output_type": "execute_result"
    }
   ],
   "source": [
    "data.shape"
   ]
  },
  {
   "cell_type": "markdown",
   "id": "3f2499fd-5f2c-42b9-b146-ccd95c7b358b",
   "metadata": {},
   "source": [
    "- **data.sample()**\n",
    "- This is useful for quickly inspecting random entries in the dataset.\n",
    "- By default, it returns one random row. You can pass a parameter like `data.sample(n=5)` to view 5 random rows.\n",
    "- It helps in checking the data quality and understanding the general structure of the dataset without scanning the entire file."
   ]
  },
  {
   "cell_type": "code",
   "execution_count": 8,
   "id": "6c7c1cfd-1e6d-4a12-a399-94427004ec03",
   "metadata": {},
   "outputs": [
    {
     "data": {
      "text/html": [
       "<div>\n",
       "<style scoped>\n",
       "    .dataframe tbody tr th:only-of-type {\n",
       "        vertical-align: middle;\n",
       "    }\n",
       "\n",
       "    .dataframe tbody tr th {\n",
       "        vertical-align: top;\n",
       "    }\n",
       "\n",
       "    .dataframe thead th {\n",
       "        text-align: right;\n",
       "    }\n",
       "</style>\n",
       "<table border=\"1\" class=\"dataframe\">\n",
       "  <thead>\n",
       "    <tr style=\"text-align: right;\">\n",
       "      <th></th>\n",
       "      <th>gender</th>\n",
       "      <th>race/ethnicity</th>\n",
       "      <th>parental level of education</th>\n",
       "      <th>lunch</th>\n",
       "      <th>test preparation course</th>\n",
       "      <th>math score</th>\n",
       "      <th>reading score</th>\n",
       "      <th>writing score</th>\n",
       "    </tr>\n",
       "  </thead>\n",
       "  <tbody>\n",
       "    <tr>\n",
       "      <th>15</th>\n",
       "      <td>female</td>\n",
       "      <td>group C</td>\n",
       "      <td>some high school</td>\n",
       "      <td>standard</td>\n",
       "      <td>none</td>\n",
       "      <td>69</td>\n",
       "      <td>75</td>\n",
       "      <td>78</td>\n",
       "    </tr>\n",
       "  </tbody>\n",
       "</table>\n",
       "</div>"
      ],
      "text/plain": [
       "    gender race/ethnicity parental level of education     lunch  \\\n",
       "15  female        group C            some high school  standard   \n",
       "\n",
       "   test preparation course  math score  reading score  writing score  \n",
       "15                    none          69             75             78  "
      ]
     },
     "execution_count": 8,
     "metadata": {},
     "output_type": "execute_result"
    }
   ],
   "source": [
    "data.sample()"
   ]
  },
  {
   "cell_type": "markdown",
   "id": "557bcd02-50e4-4b1a-800d-419286fb4c94",
   "metadata": {},
   "source": [
    "- **data.info()**\n",
    "- The number of non-null entries in each column\n",
    "- The data type of each column\n",
    "- The overall number of rows and columns\n",
    "- The memory usage of the DataFrame"
   ]
  },
  {
   "cell_type": "code",
   "execution_count": 9,
   "id": "15880b8f-edde-4737-84c8-001bd9f2290a",
   "metadata": {},
   "outputs": [
    {
     "name": "stdout",
     "output_type": "stream",
     "text": [
      "<class 'pandas.core.frame.DataFrame'>\n",
      "RangeIndex: 1000 entries, 0 to 999\n",
      "Data columns (total 8 columns):\n",
      " #   Column                       Non-Null Count  Dtype \n",
      "---  ------                       --------------  ----- \n",
      " 0   gender                       1000 non-null   object\n",
      " 1   race/ethnicity               1000 non-null   object\n",
      " 2   parental level of education  1000 non-null   object\n",
      " 3   lunch                        1000 non-null   object\n",
      " 4   test preparation course      1000 non-null   object\n",
      " 5   math score                   1000 non-null   int64 \n",
      " 6   reading score                1000 non-null   int64 \n",
      " 7   writing score                1000 non-null   int64 \n",
      "dtypes: int64(3), object(5)\n",
      "memory usage: 62.6+ KB\n"
     ]
    }
   ],
   "source": [
    "data.info()"
   ]
  },
  {
   "cell_type": "markdown",
   "id": "18e63613-154a-4bd9-a178-e5d8c05e3dae",
   "metadata": {},
   "source": [
    "- **data.describe()**\n",
    "- **Count**: The number of non-null entries.\n",
    "- **Mean**: The average value of the numerical data.\n",
    "- **Standard Deviation (std)**: A measure of the spread or dispersion of the data.\n",
    "- **Min/Max**: The minimum and maximum values of the data.\n",
    "- **25%, 50%, 75%**: The 25th, 50th, and 75th percentiles (quartiles), giving insight into the data distribution.\n"
   ]
  },
  {
   "cell_type": "code",
   "execution_count": 10,
   "id": "5af6dd9d-c07f-44e5-89d9-d13fa071d73d",
   "metadata": {},
   "outputs": [
    {
     "data": {
      "text/html": [
       "<div>\n",
       "<style scoped>\n",
       "    .dataframe tbody tr th:only-of-type {\n",
       "        vertical-align: middle;\n",
       "    }\n",
       "\n",
       "    .dataframe tbody tr th {\n",
       "        vertical-align: top;\n",
       "    }\n",
       "\n",
       "    .dataframe thead th {\n",
       "        text-align: right;\n",
       "    }\n",
       "</style>\n",
       "<table border=\"1\" class=\"dataframe\">\n",
       "  <thead>\n",
       "    <tr style=\"text-align: right;\">\n",
       "      <th></th>\n",
       "      <th>math score</th>\n",
       "      <th>reading score</th>\n",
       "      <th>writing score</th>\n",
       "    </tr>\n",
       "  </thead>\n",
       "  <tbody>\n",
       "    <tr>\n",
       "      <th>count</th>\n",
       "      <td>1000.00000</td>\n",
       "      <td>1000.000000</td>\n",
       "      <td>1000.000000</td>\n",
       "    </tr>\n",
       "    <tr>\n",
       "      <th>mean</th>\n",
       "      <td>66.08900</td>\n",
       "      <td>69.169000</td>\n",
       "      <td>68.054000</td>\n",
       "    </tr>\n",
       "    <tr>\n",
       "      <th>std</th>\n",
       "      <td>15.16308</td>\n",
       "      <td>14.600192</td>\n",
       "      <td>15.195657</td>\n",
       "    </tr>\n",
       "    <tr>\n",
       "      <th>min</th>\n",
       "      <td>0.00000</td>\n",
       "      <td>17.000000</td>\n",
       "      <td>10.000000</td>\n",
       "    </tr>\n",
       "    <tr>\n",
       "      <th>25%</th>\n",
       "      <td>57.00000</td>\n",
       "      <td>59.000000</td>\n",
       "      <td>57.750000</td>\n",
       "    </tr>\n",
       "    <tr>\n",
       "      <th>50%</th>\n",
       "      <td>66.00000</td>\n",
       "      <td>70.000000</td>\n",
       "      <td>69.000000</td>\n",
       "    </tr>\n",
       "    <tr>\n",
       "      <th>75%</th>\n",
       "      <td>77.00000</td>\n",
       "      <td>79.000000</td>\n",
       "      <td>79.000000</td>\n",
       "    </tr>\n",
       "    <tr>\n",
       "      <th>max</th>\n",
       "      <td>100.00000</td>\n",
       "      <td>100.000000</td>\n",
       "      <td>100.000000</td>\n",
       "    </tr>\n",
       "  </tbody>\n",
       "</table>\n",
       "</div>"
      ],
      "text/plain": [
       "       math score  reading score  writing score\n",
       "count  1000.00000    1000.000000    1000.000000\n",
       "mean     66.08900      69.169000      68.054000\n",
       "std      15.16308      14.600192      15.195657\n",
       "min       0.00000      17.000000      10.000000\n",
       "25%      57.00000      59.000000      57.750000\n",
       "50%      66.00000      70.000000      69.000000\n",
       "75%      77.00000      79.000000      79.000000\n",
       "max     100.00000     100.000000     100.000000"
      ]
     },
     "execution_count": 10,
     "metadata": {},
     "output_type": "execute_result"
    }
   ],
   "source": [
    "data.describe()"
   ]
  },
  {
   "cell_type": "markdown",
   "id": "5ebdce0f-df8a-47e4-b0b8-d62554dd40b0",
   "metadata": {},
   "source": [
    "# 2: Data Cleaning\n",
    "\n",
    " - #### Handling Missing Values\n",
    "\n",
    "Missing data is a common issue in real-world datasets. One of the techniques to handle missing values is **imputation**, where missing values are filled with a calculated value, such as the mean, median, or mode of the feature.\n",
    "In this step, we'll demonstrate **imputation** by filling the missing values with the **mean** of the respective columns. This method is particularly useful for numerical data to prevent data loss and maintain consistency in analysis.\n",
    "Imputation helps to maintain the size and integrity of the dataset, which is essential for building accurate models without losing valuable information.\n",
    "- **data.isnull().sum()**\n",
    "- **`data.isnull()`**: This function checks each element in the dataset to determine if it is null (i.e., missing or NaN), returning a DataFrame of the same shape with `True` for null values and `False` for non-null values.\n",
    "- **`sum()`**: After identifying null values, the `sum()` function is applied to count the total number of null values in each column.\n"
   ]
  },
  {
   "cell_type": "code",
   "execution_count": 11,
   "id": "47fc1af3-0bbf-43f7-94d1-5056a9cd861d",
   "metadata": {},
   "outputs": [
    {
     "data": {
      "text/plain": [
       "gender                         0\n",
       "race/ethnicity                 0\n",
       "parental level of education    0\n",
       "lunch                          0\n",
       "test preparation course        0\n",
       "math score                     0\n",
       "reading score                  0\n",
       "writing score                  0\n",
       "dtype: int64"
      ]
     },
     "execution_count": 11,
     "metadata": {},
     "output_type": "execute_result"
    }
   ],
   "source": [
    "data.isnull().sum()"
   ]
  },
  {
   "cell_type": "code",
   "execution_count": 12,
   "id": "3010ddb2-ffb9-4ff8-be0b-991227e71dff",
   "metadata": {},
   "outputs": [
    {
     "data": {
      "text/plain": [
       "(1000, 8)"
      ]
     },
     "execution_count": 12,
     "metadata": {},
     "output_type": "execute_result"
    }
   ],
   "source": [
    "data.shape"
   ]
  },
  {
   "cell_type": "markdown",
   "id": "ddd31092-c82a-4633-87d8-3d85c82c3790",
   "metadata": {},
   "source": [
    "**Removal: Deleting rows with missing values**\n",
    "- data = pd.read_csv('st.csv')\n",
    "- data.isnull().sum()\n",
    "1. **Loading the dataset**:\n",
    "   - The **`pd.read_csv('echocardiogram.csv')`** function is used to load the dataset from a CSV file named `echocardiogram.csv` into a Pandas DataFrame. This allows us to work with the data in a structured format.\n",
    "2. **Checking for missing values**:\n",
    "   - The **`data.isnull().sum()`** method is used to check for any missing values in the dataset. It returns the count of missing values in each column, which helps identify areas where data might be incomplete and require handling (e.g., imputation or removal)."
   ]
  },
  {
   "cell_type": "code",
   "execution_count": 13,
   "id": "a99b6ba3-0351-4c3f-a930-effeef44b126",
   "metadata": {},
   "outputs": [
    {
     "data": {
      "text/plain": [
       "gender                         0\n",
       "race/ethnicity                 0\n",
       "parental level of education    0\n",
       "lunch                          0\n",
       "test preparation course        0\n",
       "math score                     0\n",
       "reading score                  0\n",
       "writing score                  0\n",
       "dtype: int64"
      ]
     },
     "execution_count": 13,
     "metadata": {},
     "output_type": "execute_result"
    }
   ],
   "source": [
    "data = pd.read_csv('st.csv')\n",
    "data.isnull().sum()"
   ]
  },
  {
   "cell_type": "markdown",
   "id": "faf90247-aab9-4ef4-b3ad-c9a3b6d9edc5",
   "metadata": {},
   "source": [
    "- ***Removing Duplicates***\n",
    "- **data = pd.read_csv('st.csv')**\n",
    "- **data.shape**\n",
    "- **`pd.read_csv('st.csv')`**: This function from the pandas library is used to load the CSV file named `st.csv` into a pandas DataFrame.\n",
    "- **`data.shape`**: The `.shape` attribute returns a tuple representing the dimensions of the DataFrame, indicating the number of rows and columns in the dataset."
   ]
  },
  {
   "cell_type": "code",
   "execution_count": 14,
   "id": "e8e0e10c-61e6-4346-81a0-ebc43773fa9a",
   "metadata": {},
   "outputs": [
    {
     "data": {
      "text/plain": [
       "(1000, 8)"
      ]
     },
     "execution_count": 14,
     "metadata": {},
     "output_type": "execute_result"
    }
   ],
   "source": [
    "data = pd.read_csv('st.csv')\n",
    "data.shape"
   ]
  },
  {
   "cell_type": "markdown",
   "id": "8f499c36-7e0b-4514-907f-0b8986b0fcc6",
   "metadata": {},
   "source": [
    "# 3: Outlier Detection and Removal\n",
    "- 1. **Importing Libraries**: \n",
    "   - **`pandas`**: Used for data manipulation and analysis, particularly for reading and working with structured data (e.g., CSV files).\n",
    "   - **`numpy`**: A fundamental library for numerical computations, often used alongside pandas for numerical operations.\n",
    "   - **`matplotlib.pyplot`**: A library for creating static visualizations, useful for plotting graphs.\n",
    "\n",
    "2. **Loading the Dataset**: \n",
    "   - We load the **echocardiogram dataset** from a CSV file using `pd.read_csv()`.\n",
    "\n",
    "3. **Exploring the Dataset**:\n",
    "   - The `describe()` function provides summary statistics of the dataset, including measures such as mean, standard deviation, and percentiles for numerical columns. This helps in understanding the distribution and range of values in the dataset."
   ]
  },
  {
   "cell_type": "code",
   "execution_count": 17,
   "id": "6e0f9f2f-0aed-4494-8a98-6e0d609be0c2",
   "metadata": {},
   "outputs": [
    {
     "data": {
      "text/html": [
       "<div>\n",
       "<style scoped>\n",
       "    .dataframe tbody tr th:only-of-type {\n",
       "        vertical-align: middle;\n",
       "    }\n",
       "\n",
       "    .dataframe tbody tr th {\n",
       "        vertical-align: top;\n",
       "    }\n",
       "\n",
       "    .dataframe thead th {\n",
       "        text-align: right;\n",
       "    }\n",
       "</style>\n",
       "<table border=\"1\" class=\"dataframe\">\n",
       "  <thead>\n",
       "    <tr style=\"text-align: right;\">\n",
       "      <th></th>\n",
       "      <th>math score</th>\n",
       "      <th>reading score</th>\n",
       "      <th>writing score</th>\n",
       "    </tr>\n",
       "  </thead>\n",
       "  <tbody>\n",
       "    <tr>\n",
       "      <th>count</th>\n",
       "      <td>1000.00000</td>\n",
       "      <td>1000.000000</td>\n",
       "      <td>1000.000000</td>\n",
       "    </tr>\n",
       "    <tr>\n",
       "      <th>mean</th>\n",
       "      <td>66.08900</td>\n",
       "      <td>69.169000</td>\n",
       "      <td>68.054000</td>\n",
       "    </tr>\n",
       "    <tr>\n",
       "      <th>std</th>\n",
       "      <td>15.16308</td>\n",
       "      <td>14.600192</td>\n",
       "      <td>15.195657</td>\n",
       "    </tr>\n",
       "    <tr>\n",
       "      <th>min</th>\n",
       "      <td>0.00000</td>\n",
       "      <td>17.000000</td>\n",
       "      <td>10.000000</td>\n",
       "    </tr>\n",
       "    <tr>\n",
       "      <th>25%</th>\n",
       "      <td>57.00000</td>\n",
       "      <td>59.000000</td>\n",
       "      <td>57.750000</td>\n",
       "    </tr>\n",
       "    <tr>\n",
       "      <th>50%</th>\n",
       "      <td>66.00000</td>\n",
       "      <td>70.000000</td>\n",
       "      <td>69.000000</td>\n",
       "    </tr>\n",
       "    <tr>\n",
       "      <th>75%</th>\n",
       "      <td>77.00000</td>\n",
       "      <td>79.000000</td>\n",
       "      <td>79.000000</td>\n",
       "    </tr>\n",
       "    <tr>\n",
       "      <th>max</th>\n",
       "      <td>100.00000</td>\n",
       "      <td>100.000000</td>\n",
       "      <td>100.000000</td>\n",
       "    </tr>\n",
       "  </tbody>\n",
       "</table>\n",
       "</div>"
      ],
      "text/plain": [
       "       math score  reading score  writing score\n",
       "count  1000.00000    1000.000000    1000.000000\n",
       "mean     66.08900      69.169000      68.054000\n",
       "std      15.16308      14.600192      15.195657\n",
       "min       0.00000      17.000000      10.000000\n",
       "25%      57.00000      59.000000      57.750000\n",
       "50%      66.00000      70.000000      69.000000\n",
       "75%      77.00000      79.000000      79.000000\n",
       "max     100.00000     100.000000     100.000000"
      ]
     },
     "execution_count": 17,
     "metadata": {},
     "output_type": "execute_result"
    }
   ],
   "source": [
    "import pandas as pd\n",
    "import numpy as np\n",
    "import matplotlib.pyplot as plt\n",
    "data = pd.read_csv('st.csv')\n",
    "data.describe()"
   ]
  },
  {
   "cell_type": "markdown",
   "id": "1ba7ba0a-9483-429c-a0df-d849a5272b8c",
   "metadata": {},
   "source": [
    "1. **Select Numerical Columns**:\n",
    "   - `data.select_dtypes(include=[np.number])` selects all numeric columns from the DataFrame `data`.\n",
    "\n",
    "2. **Calculate IQR (Interquartile Range)**:\n",
    "   - `Q1` (25th percentile) and `Q3` (75th percentile) are computed.\n",
    "   - `IQR` is the difference between Q3 and Q1 and represents the middle 50% of the data.\n",
    "\n",
    "3. **Remove Outliers**:\n",
    "   - Rows with any values lower than `Q1 - 1.5 * IQR` or higher than `Q3 + 1.5 * IQR` are considered outliers and removed from `data`.\n",
    "\n",
    "4. **Visualize Using Boxplot**:\n",
    "   - A boxplot is drawn before outlier removal to show the presence of outliers in each numeric column.\n",
    "   - `plt.subplot(1, 2, 1)` prepares the layout for side-by-side comparison (you can add the \"after\" plot in the second subplot).\n",
    "   - `plt.tight_layout()` ensures proper spacing in the figure layout.\n"
   ]
  },
  {
   "cell_type": "code",
   "execution_count": 27,
   "id": "a580e514-31f0-412a-a314-e3c500946edd",
   "metadata": {},
   "outputs": [
    {
     "data": {
      "image/png": "[encoded data removed]",
      "text/plain": [
       "<Figure size 2000x600 with 1 Axes>"
      ]
     },
     "metadata": {},
     "output_type": "display_data"
    }
   ],
   "source": [
    "numeric_cols = data.select_dtypes(include=[np.number])\n",
    "Q1 = numeric_cols.quantile(0.25)\n",
    "Q3 = numeric_cols.quantile(0.75)\n",
    "IQR = Q3 - Q1\n",
    "data_cleaned = data[~((numeric_cols < (Q1 - 1.5 * IQR)) | (numeric_cols > (Q3 + 1.5 * IQR))).any(axis=1)]\n",
    "plt.figure(figsize=(20, 6))\n",
    "plt.subplot(1, 2, 1)\n",
    "numeric_cols.boxplot()\n",
    "plt.title(\"Before Outlier Removal\")\n",
    "plt.tight_layout()\n",
    "plt.show()\n"
   ]
  },
  {
   "cell_type": "markdown",
   "id": "3ae87355-09a9-4c31-b6c0-0ea1e4031beb",
   "metadata": {},
   "source": [
    "- **`plt.figure(figsize=(20, 6))`**: Sets the overall figure size for better visibility.\n",
    "- **`plt.subplot(1, 2, 2)`**: Specifies the position of the plot in a 1-row, 2-column layout (this is the second subplot).\n",
    "- **`data_cleaned.select_dtypes(include=[np.number]).boxplot()`**: Generates a boxplot for all numeric columns in the cleaned dataset (`data_cleaned`), helping to identify any remaining outliers or skewed distributions.\n",
    "- **`plt.title(\"After Outlier Removal\")`**: Sets the title of the plot for context.\n",
    "- **`plt.tight_layout()`**: Adjusts subplot parameters for a neat layout.\n",
    "- **`plt.show()`**: Displays the final plot."
   ]
  },
  {
   "cell_type": "code",
   "execution_count": 28,
   "id": "83d68cc5-363f-432e-8161-ff4f140050ba",
   "metadata": {},
   "outputs": [
    {
     "data": {
      "image/png": "[encoded data removed]",
      "text/plain": [
       "<Figure size 2000x600 with 1 Axes>"
      ]
     },
     "metadata": {},
     "output_type": "display_data"
    }
   ],
   "source": [
    "plt.figure(figsize=(20, 6))\n",
    "plt.subplot(1, 2, 2)\n",
    "data_cleaned.select_dtypes(include=[np.number]).boxplot()\n",
    "plt.title(\"After Outlier Removal\")\n",
    "plt.tight_layout()\n",
    "plt.show()\n"
   ]
  },
  {
   "cell_type": "markdown",
   "id": "0ed235bb-c14a-474d-aadb-840e135489e7",
   "metadata": {},
   "source": [
    "- **data_cleaned.shape**\n",
    "- **Rows**: The number of data points (or samples).\n",
    "- **Columns**: The number of features (or variables)."
   ]
  },
  {
   "cell_type": "code",
   "execution_count": 20,
   "id": "f4697fab-c937-47a2-bd9a-2ada62b195dc",
   "metadata": {},
   "outputs": [
    {
     "data": {
      "text/plain": [
       "(988, 8)"
      ]
     },
     "execution_count": 20,
     "metadata": {},
     "output_type": "execute_result"
    }
   ],
   "source": [
    "data_cleaned.shape"
   ]
  },
  {
   "cell_type": "code",
   "execution_count": 21,
   "id": "c54ba631-9790-41ab-b480-74ac9e47622d",
   "metadata": {},
   "outputs": [
    {
     "data": {
      "text/html": [
       "<div>\n",
       "<style scoped>\n",
       "    .dataframe tbody tr th:only-of-type {\n",
       "        vertical-align: middle;\n",
       "    }\n",
       "\n",
       "    .dataframe tbody tr th {\n",
       "        vertical-align: top;\n",
       "    }\n",
       "\n",
       "    .dataframe thead th {\n",
       "        text-align: right;\n",
       "    }\n",
       "</style>\n",
       "<table border=\"1\" class=\"dataframe\">\n",
       "  <thead>\n",
       "    <tr style=\"text-align: right;\">\n",
       "      <th></th>\n",
       "      <th>gender</th>\n",
       "      <th>race/ethnicity</th>\n",
       "      <th>parental level of education</th>\n",
       "      <th>lunch</th>\n",
       "      <th>test preparation course</th>\n",
       "      <th>math score</th>\n",
       "      <th>reading score</th>\n",
       "      <th>writing score</th>\n",
       "    </tr>\n",
       "  </thead>\n",
       "  <tbody>\n",
       "    <tr>\n",
       "      <th>0</th>\n",
       "      <td>female</td>\n",
       "      <td>group B</td>\n",
       "      <td>bachelor's degree</td>\n",
       "      <td>standard</td>\n",
       "      <td>none</td>\n",
       "      <td>72</td>\n",
       "      <td>72</td>\n",
       "      <td>74</td>\n",
       "    </tr>\n",
       "    <tr>\n",
       "      <th>1</th>\n",
       "      <td>female</td>\n",
       "      <td>group C</td>\n",
       "      <td>some college</td>\n",
       "      <td>standard</td>\n",
       "      <td>completed</td>\n",
       "      <td>69</td>\n",
       "      <td>90</td>\n",
       "      <td>88</td>\n",
       "    </tr>\n",
       "    <tr>\n",
       "      <th>2</th>\n",
       "      <td>female</td>\n",
       "      <td>group B</td>\n",
       "      <td>master's degree</td>\n",
       "      <td>standard</td>\n",
       "      <td>none</td>\n",
       "      <td>90</td>\n",
       "      <td>95</td>\n",
       "      <td>93</td>\n",
       "    </tr>\n",
       "    <tr>\n",
       "      <th>3</th>\n",
       "      <td>male</td>\n",
       "      <td>group A</td>\n",
       "      <td>associate's degree</td>\n",
       "      <td>free/reduced</td>\n",
       "      <td>none</td>\n",
       "      <td>47</td>\n",
       "      <td>57</td>\n",
       "      <td>44</td>\n",
       "    </tr>\n",
       "    <tr>\n",
       "      <th>4</th>\n",
       "      <td>male</td>\n",
       "      <td>group C</td>\n",
       "      <td>some college</td>\n",
       "      <td>standard</td>\n",
       "      <td>none</td>\n",
       "      <td>76</td>\n",
       "      <td>78</td>\n",
       "      <td>75</td>\n",
       "    </tr>\n",
       "  </tbody>\n",
       "</table>\n",
       "</div>"
      ],
      "text/plain": [
       "   gender race/ethnicity parental level of education         lunch  \\\n",
       "0  female        group B           bachelor's degree      standard   \n",
       "1  female        group C                some college      standard   \n",
       "2  female        group B             master's degree      standard   \n",
       "3    male        group A          associate's degree  free/reduced   \n",
       "4    male        group C                some college      standard   \n",
       "\n",
       "  test preparation course  math score  reading score  writing score  \n",
       "0                    none          72             72             74  \n",
       "1               completed          69             90             88  \n",
       "2                    none          90             95             93  \n",
       "3                    none          47             57             44  \n",
       "4                    none          76             78             75  "
      ]
     },
     "execution_count": 21,
     "metadata": {},
     "output_type": "execute_result"
    }
   ],
   "source": [
    "data_cleaned.head()"
   ]
  },
  {
   "cell_type": "markdown",
   "id": "1dd5925c-0c20-483a-9eb3-9c792a0d7092",
   "metadata": {},
   "source": [
    " # 4. Data Transformation"
   ]
  },
  {
   "cell_type": "markdown",
   "id": "290f87ea-1495-410c-8dfd-fe1b313fe5dc",
   "metadata": {},
   "source": [
    "Key Differences\n",
    "-\n",
    "- Range of Values:\n",
    "\n",
    " Normalization: Values are scaled to a fixed range, typically [0, 1].\n",
    "\n",
    " Standardization: Values are rescaled to have a mean of 0 and a standard deviation of 1. Effect on Distribution:\n",
    "\n",
    " Normalization: Compresses or stretches the data to fit within the specified range, potentially altering the original distribution.\n",
    "\n",
    " Standardization: Preserves the shape of the original distribution but changes the scale. Use Cases:\n",
    "\n",
    " Normalization: Suitable for distance-based algorithms, like k-nearest neighbors and neural networks.\n",
    "\n",
    " Standardization: Suitable for algorithms that assume a normal distribution, like linear regression and logistic regression."
   ]
  },
  {
   "cell_type": "markdown",
   "id": "a4893498-58c8-4cb2-8f53-03947140ef1b",
   "metadata": {},
   "source": [
    "Normalization/Standardization\n",
    "-\n",
    "- ***Normalization***\n",
    "  \n",
    "  **Definition:** Normalization rescales the data to a fixed range, typically [0, 1] or [-1, 1]."
   ]
  },
  {
   "cell_type": "markdown",
   "id": "9eda00ef-e21a-4204-a8de-8c313d6a6231",
   "metadata": {},
   "source": [
    "1. **Import Libraries**: \n",
    "   - `pandas`: A library used for data manipulation and analysis.\n",
    "   - `numpy`: A library for numerical operations.\n",
    "   - `MinMaxScaler` from `sklearn.preprocessing`: A feature scaling tool that scales the data into a range [0, 1].\n",
    "\n",
    "2. **Load Data**: \n",
    "   - We load a dataset named `st.csv` into a pandas DataFrame.\n",
    "\n",
    "3. **Separate Numeric and Non-Numeric Columns**: \n",
    "   - The numeric columns are selected using `select_dtypes(include=[np.number])`.\n",
    "   - The non-numeric columns are selected using `select_dtypes(exclude=[np.number])`.\n",
    "\n",
    "4. **Scaling the Numeric Data**: \n",
    "   - We apply the `MinMaxScaler` to scale all the numeric columns to the range [0, 1].\n",
    "   - The transformed data is stored in a new DataFrame.\n",
    "\n",
    "5. **Combining the Scaled Numeric Data with Non-Numeric Columns**: \n",
    "   - The scaled numeric data is concatenated with the non-numeric columns to create a final DataFrame with the scaled numeric values and the original non-numeric features.\n",
    "\n",
    "6. **Displaying the Result**:\n",
    "   - The shape of the final dataset is printed.\n",
    "   - The first few rows of the scaled dataset are displayed to verify the changes."
   ]
  },
  {
   "cell_type": "code",
   "execution_count": 25,
   "id": "b1ace713-b0e5-4dad-a4f0-b1f9a6c5a07d",
   "metadata": {},
   "outputs": [
    {
     "name": "stdout",
     "output_type": "stream",
     "text": [
      "(1000, 8)\n",
      "\n",
      "************************************************************\n"
     ]
    },
    {
     "data": {
      "text/html": [
       "<div>\n",
       "<style scoped>\n",
       "    .dataframe tbody tr th:only-of-type {\n",
       "        vertical-align: middle;\n",
       "    }\n",
       "\n",
       "    .dataframe tbody tr th {\n",
       "        vertical-align: top;\n",
       "    }\n",
       "\n",
       "    .dataframe thead th {\n",
       "        text-align: right;\n",
       "    }\n",
       "</style>\n",
       "<table border=\"1\" class=\"dataframe\">\n",
       "  <thead>\n",
       "    <tr style=\"text-align: right;\">\n",
       "      <th></th>\n",
       "      <th>math score</th>\n",
       "      <th>reading score</th>\n",
       "      <th>writing score</th>\n",
       "      <th>gender</th>\n",
       "      <th>race/ethnicity</th>\n",
       "      <th>parental level of education</th>\n",
       "      <th>lunch</th>\n",
       "      <th>test preparation course</th>\n",
       "    </tr>\n",
       "  </thead>\n",
       "  <tbody>\n",
       "    <tr>\n",
       "      <th>0</th>\n",
       "      <td>0.72</td>\n",
       "      <td>0.662651</td>\n",
       "      <td>0.711111</td>\n",
       "      <td>female</td>\n",
       "      <td>group B</td>\n",
       "      <td>bachelor's degree</td>\n",
       "      <td>standard</td>\n",
       "      <td>none</td>\n",
       "    </tr>\n",
       "    <tr>\n",
       "      <th>1</th>\n",
       "      <td>0.69</td>\n",
       "      <td>0.879518</td>\n",
       "      <td>0.866667</td>\n",
       "      <td>female</td>\n",
       "      <td>group C</td>\n",
       "      <td>some college</td>\n",
       "      <td>standard</td>\n",
       "      <td>completed</td>\n",
       "    </tr>\n",
       "    <tr>\n",
       "      <th>2</th>\n",
       "      <td>0.90</td>\n",
       "      <td>0.939759</td>\n",
       "      <td>0.922222</td>\n",
       "      <td>female</td>\n",
       "      <td>group B</td>\n",
       "      <td>master's degree</td>\n",
       "      <td>standard</td>\n",
       "      <td>none</td>\n",
       "    </tr>\n",
       "    <tr>\n",
       "      <th>3</th>\n",
       "      <td>0.47</td>\n",
       "      <td>0.481928</td>\n",
       "      <td>0.377778</td>\n",
       "      <td>male</td>\n",
       "      <td>group A</td>\n",
       "      <td>associate's degree</td>\n",
       "      <td>free/reduced</td>\n",
       "      <td>none</td>\n",
       "    </tr>\n",
       "    <tr>\n",
       "      <th>4</th>\n",
       "      <td>0.76</td>\n",
       "      <td>0.734940</td>\n",
       "      <td>0.722222</td>\n",
       "      <td>male</td>\n",
       "      <td>group C</td>\n",
       "      <td>some college</td>\n",
       "      <td>standard</td>\n",
       "      <td>none</td>\n",
       "    </tr>\n",
       "  </tbody>\n",
       "</table>\n",
       "</div>"
      ],
      "text/plain": [
       "   math score  reading score  writing score  gender race/ethnicity  \\\n",
       "0        0.72       0.662651       0.711111  female        group B   \n",
       "1        0.69       0.879518       0.866667  female        group C   \n",
       "2        0.90       0.939759       0.922222  female        group B   \n",
       "3        0.47       0.481928       0.377778    male        group A   \n",
       "4        0.76       0.734940       0.722222    male        group C   \n",
       "\n",
       "  parental level of education         lunch test preparation course  \n",
       "0           bachelor's degree      standard                    none  \n",
       "1                some college      standard               completed  \n",
       "2             master's degree      standard                    none  \n",
       "3          associate's degree  free/reduced                    none  \n",
       "4                some college      standard                    none  "
      ]
     },
     "execution_count": 25,
     "metadata": {},
     "output_type": "execute_result"
    }
   ],
   "source": [
    "import pandas as pd\n",
    "import numpy as np\n",
    "from sklearn.preprocessing import MinMaxScaler\n",
    "data = pd.read_csv('st.csv')\n",
    "numeric_cols = data.select_dtypes(include=[np.number])\n",
    "non_numeric_cols = data.select_dtypes(exclude=[np.number])\n",
    "scaler = MinMaxScaler()\n",
    "scaled_numeric_data = scaler.fit_transform(numeric_cols)\n",
    "scaled_numeric_df = pd.DataFrame(scaled_numeric_data, columns=numeric_cols.columns)\n",
    "scaled_data = pd.concat([scaled_numeric_df, non_numeric_cols.reset_index(drop=True)], axis=1)\n",
    "print(scaled_data.shape)\n",
    "print()\n",
    "print('*' * 60)\n",
    "scaled_data.head()"
   ]
  },
  {
   "cell_type": "markdown",
   "id": "820e0c70-da48-4d34-8e36-ba766161b290",
   "metadata": {},
   "source": [
    "Standardization\n",
    "-\n",
    "\n",
    " **Definition:** Standardization rescales the data so that it has a mean of 0 and a standard deviation of 1."
   ]
  },
  {
   "cell_type": "markdown",
   "id": "e2e14945-5c8b-438a-896d-a9bdf5a2ebd0",
   "metadata": {},
   "source": [
    "1. **Import Libraries**: \n",
    "   - **`pandas`**: For reading the CSV file and handling the data.\n",
    "   - **`numpy`**: For numerical operations.\n",
    "   - **`StandardScaler`**: From `sklearn.preprocessing`, used to standardize the numerical data (i.e., scaling the features to have a mean of 0 and a standard deviation of 1).\n",
    "\n",
    "2. **Reading Data**:\n",
    "   - The dataset is loaded from a CSV file called `'st.csv'` using `pandas.read_csv()`.\n",
    "\n",
    "3. **Selecting Columns**:\n",
    "   - **Numeric Columns**: These are columns with numerical data, selected using `select_dtypes(include=[np.number])`.\n",
    "   - **Non-Numeric Columns**: These are columns with non-numerical data, selected using `select_dtypes(exclude=[np.number])`.\n",
    "\n",
    "4. **Standardizing the Data**:\n",
    "   - The numerical columns are standardized using `StandardScaler`. This ensures that all numerical features have the same scale, which can improve the performance of machine learning algorithms.\n",
    "\n",
    "5. **Recombining Data**:\n",
    "   - The scaled numerical data is combined with the original non-numeric columns using `pd.concat()` to create the final DataFrame.\n",
    "\n",
    "6. **Output**:\n",
    "   - The shape of the transformed dataset is printed, followed by the first few rows of the scaled data to give a preview."
   ]
  },
  {
   "cell_type": "code",
   "execution_count": 26,
   "id": "282a5c7b-4742-4a30-b7a7-62fc20f528ce",
   "metadata": {},
   "outputs": [
    {
     "name": "stdout",
     "output_type": "stream",
     "text": [
      "(1000, 8)\n",
      "\n",
      "************************************************************\n"
     ]
    },
    {
     "data": {
      "text/html": [
       "<div>\n",
       "<style scoped>\n",
       "    .dataframe tbody tr th:only-of-type {\n",
       "        vertical-align: middle;\n",
       "    }\n",
       "\n",
       "    .dataframe tbody tr th {\n",
       "        vertical-align: top;\n",
       "    }\n",
       "\n",
       "    .dataframe thead th {\n",
       "        text-align: right;\n",
       "    }\n",
       "</style>\n",
       "<table border=\"1\" class=\"dataframe\">\n",
       "  <thead>\n",
       "    <tr style=\"text-align: right;\">\n",
       "      <th></th>\n",
       "      <th>math score</th>\n",
       "      <th>reading score</th>\n",
       "      <th>writing score</th>\n",
       "      <th>gender</th>\n",
       "      <th>race/ethnicity</th>\n",
       "      <th>parental level of education</th>\n",
       "      <th>lunch</th>\n",
       "      <th>test preparation course</th>\n",
       "    </tr>\n",
       "  </thead>\n",
       "  <tbody>\n",
       "    <tr>\n",
       "      <th>0</th>\n",
       "      <td>0.390024</td>\n",
       "      <td>0.193999</td>\n",
       "      <td>0.391492</td>\n",
       "      <td>female</td>\n",
       "      <td>group B</td>\n",
       "      <td>bachelor's degree</td>\n",
       "      <td>standard</td>\n",
       "      <td>none</td>\n",
       "    </tr>\n",
       "    <tr>\n",
       "      <th>1</th>\n",
       "      <td>0.192076</td>\n",
       "      <td>1.427476</td>\n",
       "      <td>1.313269</td>\n",
       "      <td>female</td>\n",
       "      <td>group C</td>\n",
       "      <td>some college</td>\n",
       "      <td>standard</td>\n",
       "      <td>completed</td>\n",
       "    </tr>\n",
       "    <tr>\n",
       "      <th>2</th>\n",
       "      <td>1.577711</td>\n",
       "      <td>1.770109</td>\n",
       "      <td>1.642475</td>\n",
       "      <td>female</td>\n",
       "      <td>group B</td>\n",
       "      <td>master's degree</td>\n",
       "      <td>standard</td>\n",
       "      <td>none</td>\n",
       "    </tr>\n",
       "    <tr>\n",
       "      <th>3</th>\n",
       "      <td>-1.259543</td>\n",
       "      <td>-0.833899</td>\n",
       "      <td>-1.583744</td>\n",
       "      <td>male</td>\n",
       "      <td>group A</td>\n",
       "      <td>associate's degree</td>\n",
       "      <td>free/reduced</td>\n",
       "      <td>none</td>\n",
       "    </tr>\n",
       "    <tr>\n",
       "      <th>4</th>\n",
       "      <td>0.653954</td>\n",
       "      <td>0.605158</td>\n",
       "      <td>0.457333</td>\n",
       "      <td>male</td>\n",
       "      <td>group C</td>\n",
       "      <td>some college</td>\n",
       "      <td>standard</td>\n",
       "      <td>none</td>\n",
       "    </tr>\n",
       "  </tbody>\n",
       "</table>\n",
       "</div>"
      ],
      "text/plain": [
       "   math score  reading score  writing score  gender race/ethnicity  \\\n",
       "0    0.390024       0.193999       0.391492  female        group B   \n",
       "1    0.192076       1.427476       1.313269  female        group C   \n",
       "2    1.577711       1.770109       1.642475  female        group B   \n",
       "3   -1.259543      -0.833899      -1.583744    male        group A   \n",
       "4    0.653954       0.605158       0.457333    male        group C   \n",
       "\n",
       "  parental level of education         lunch test preparation course  \n",
       "0           bachelor's degree      standard                    none  \n",
       "1                some college      standard               completed  \n",
       "2             master's degree      standard                    none  \n",
       "3          associate's degree  free/reduced                    none  \n",
       "4                some college      standard                    none  "
      ]
     },
     "execution_count": 26,
     "metadata": {},
     "output_type": "execute_result"
    }
   ],
   "source": [
    "import pandas as pd\n",
    "import numpy as np\n",
    "from sklearn.preprocessing import StandardScaler\n",
    "data = pd.read_csv('st.csv')\n",
    "numeric_cols = data.select_dtypes(include=[np.number])\n",
    "non_numeric_cols = data.select_dtypes(exclude=[np.number])\n",
    "scaler = StandardScaler()\n",
    "scaled_numeric_data = scaler.fit_transform(numeric_cols)\n",
    "scaled_numeric_df = pd.DataFrame(scaled_numeric_data, columns=numeric_cols.columns)\n",
    "scaled_data = pd.concat([scaled_numeric_df, non_numeric_cols.reset_index(drop=True)], axis=1)\n",
    "print(scaled_data.shape)\n",
    "print()\n",
    "print('*' * 60)\n",
    "scaled_data.head()"
   ]
  },
  {
   "cell_type": "markdown",
   "id": "2744f7c9-5ba5-443e-bcd1-3558a2473ed8",
   "metadata": {},
   "source": [
    "# 5: One-Hot Encoding"
   ]
  },
  {
   "cell_type": "markdown",
   "id": "ad15e5d5-b91b-402c-aec2-2ae45bfbf88c",
   "metadata": {},
   "source": [
    " **Definition:** One-hot encoding is a method of converting categorical data into a binary matrix (i.e., a series of 0s and 1s), where each category is represented by a unique vector with one 1 and the rest 0s."
   ]
  },
  {
   "cell_type": "markdown",
   "id": "ab0d31ae-6641-49fe-980f-62f63b611922",
   "metadata": {},
   "source": [
    "### Importing Libraries and Loading the Dataset\n",
    "\n",
    "In this section, we import the necessary libraries and load the dataset:\n",
    "\n",
    "- `pandas` is used for data manipulation and analysis.\n",
    "- `numpy` is used for numerical computations.\n",
    "- `StandardScaler` from `sklearn.preprocessing` is imported for feature scaling, although not used yet in this snippet.\n",
    "\n",
    "We then read the dataset named **`st.csv`** using `pandas.read_csv()` and display the first two rows of the dataset using `data.head(2)` to get a quick overview of the data structure.\n"
   ]
  },
  {
   "cell_type": "markdown",
   "id": "db126c67-6c6c-49f4-b28f-12096189a059",
   "metadata": {},
   "source": [
    "import pandas as pd\n",
    "import numpy as np\n",
    "from sklearn.preprocessing import StandardScaler\n",
    "data = pd.read_csv('st.csv')\n",
    "data.head(2)"
   ]
  },
  {
   "cell_type": "markdown",
   "id": "7e988040-5547-4476-b69c-59c400370183",
   "metadata": {},
   "source": [
    "### data[\"name\"].unique()\n",
    "This line of code retrieves all the unique values from the \"name\" column of the DataFrame data.\n",
    "It returns a NumPy array containing each distinct entry found in that column, excluding duplicates.\n",
    "This is useful for understanding the different categories or entries present in a specific column."
   ]
  },
  {
   "cell_type": "code",
   "execution_count": 3,
   "id": "f0d11934-cf5d-43f6-905d-24b6f500083a",
   "metadata": {},
   "outputs": [
    {
     "data": {
      "text/plain": [
       "array(['female', 'male'], dtype=object)"
      ]
     },
     "execution_count": 3,
     "metadata": {},
     "output_type": "execute_result"
    }
   ],
   "source": [
    "data[\"gender\"].unique()"
   ]
  },
  {
   "cell_type": "markdown",
   "id": "bcc97afb-26e4-4986-902a-aa48a9a5f87d",
   "metadata": {},
   "source": [
    "### Description of `data.lunch.unique()`\n",
    "\n",
    "This line of code retrieves all the unique values from the `group` column of the `data` DataFrame. \n",
    "\n",
    "- `data` is a pandas DataFrame.\n",
    "- `group` is a specific column within that DataFrame.\n",
    "- `.unique()` is a pandas method that returns a NumPy array of the distinct values present in that column.\n",
    "\n",
    "This is useful when you want to quickly identify all different categories or groups in a dataset.\n"
   ]
  },
  {
   "cell_type": "code",
   "execution_count": 6,
   "id": "de3ae8ff-9975-46bd-80ed-3b8c733b8a7f",
   "metadata": {},
   "outputs": [
    {
     "data": {
      "text/plain": [
       "array(['standard', 'free/reduced'], dtype=object)"
      ]
     },
     "execution_count": 6,
     "metadata": {},
     "output_type": "execute_result"
    }
   ],
   "source": [
    "data.lunch.unique()"
   ]
  },
  {
   "cell_type": "markdown",
   "id": "c661b386-af19-417d-9529-8d19bb6733ae",
   "metadata": {},
   "source": [
    "### Description of `data.gender.unique()`\n",
    "\n",
    "This line of code retrieves all the **unique values** present in the `aliveat1` column of the `data` DataFrame. \n",
    "\n",
    "- `data` refers to the DataFrame that contains your dataset.\n",
    "- `gender` is the name of the column whose unique values you're interested in.\n",
    "- `.unique()` is a Pandas function that returns a NumPy array of the distinct values in the specified column.\n",
    "\n",
    "This is useful for quickly checking what different categories or values exist in a particular column (e.g., 'Yes', 'No', `NaN`).\n"
   ]
  },
  {
   "cell_type": "code",
   "execution_count": 10,
   "id": "204ed218-2a0f-47b2-8bee-767d99caadc9",
   "metadata": {},
   "outputs": [
    {
     "data": {
      "text/plain": [
       "array(['female', 'male'], dtype=object)"
      ]
     },
     "execution_count": 10,
     "metadata": {},
     "output_type": "execute_result"
    }
   ],
   "source": [
    "data.gender.unique()"
   ]
  },
  {
   "cell_type": "markdown",
   "id": "dbdd23b4-f1ce-4920-bbb1-ba39e978fc35",
   "metadata": {},
   "source": [
    "### Description of the Code\n",
    "\n",
    "This code performs preprocessing on a dataset (`st.csv`) by identifying and encoding categorical features using one-hot encoding.\n",
    "\n",
    "- **`import pandas as pd`**: Imports the pandas library for data manipulation and analysis.\n",
    "- **`import numpy as np`**: Imports the NumPy library for numerical operations.\n",
    "- **`from sklearn.preprocessing import StandardScaler`**: Imports the `StandardScaler` from scikit-learn, which can later be used for feature scaling (though not used in this snippet).\n",
    "\n",
    "#### Step-by-step Explanation:\n",
    "\n",
    "1. **Load the dataset**:\n",
    "   ```python\n",
    "   data = pd.read_csv('st.csv')\n"
   ]
  },
  {
   "cell_type": "code",
   "execution_count": 12,
   "id": "3c38468b-e1ba-4f4b-bb92-afed4910087a",
   "metadata": {},
   "outputs": [],
   "source": [
    "import pandas as pd\n",
    "import numpy as np\n",
    "from sklearn.preprocessing import StandardScaler\n",
    "data = pd.read_csv('st.csv')"
   ]
  },
  {
   "cell_type": "markdown",
   "id": "c4562db3-1018-424e-853f-c793450eee81",
   "metadata": {},
   "source": [
    "### Extracting Categorical Features\n",
    "\n",
    "The following line of code creates a list called `cat_features` that contains the names of all **categorical columns** in the dataset `data`.\n",
    "\n",
    "```python\n",
    "cat_features = [feature for feature in data.columns if data[feature].dtype == 'O']\n"
   ]
  },
  {
   "cell_type": "code",
   "execution_count": 13,
   "id": "21e37646-6236-47dc-8d32-b2dab1deff08",
   "metadata": {},
   "outputs": [],
   "source": [
    "cat_features = [feature for feature in data.columns if data[feature].dtype == 'O']\n"
   ]
  },
  {
   "cell_type": "markdown",
   "id": "9c015aca-c2c0-4279-8c50-84caa7d1ca8b",
   "metadata": {},
   "source": [
    "### One-Hot Encoding using `pd.get_dummies()`\n",
    "\n",
    "The following line of code performs **one-hot encoding** on the categorical features stored in the `cat_features` DataFrame:\n",
    "\n",
    "```python\n",
    "data1 = pd.get_dummies(cat_features)\n"
   ]
  },
  {
   "cell_type": "code",
   "execution_count": 14,
   "id": "a9f568a4-2824-4974-b6fb-cb7a324481cf",
   "metadata": {},
   "outputs": [
    {
     "data": {
      "text/html": [
       "<div>\n",
       "<style scoped>\n",
       "    .dataframe tbody tr th:only-of-type {\n",
       "        vertical-align: middle;\n",
       "    }\n",
       "\n",
       "    .dataframe tbody tr th {\n",
       "        vertical-align: top;\n",
       "    }\n",
       "\n",
       "    .dataframe thead th {\n",
       "        text-align: right;\n",
       "    }\n",
       "</style>\n",
       "<table border=\"1\" class=\"dataframe\">\n",
       "  <thead>\n",
       "    <tr style=\"text-align: right;\">\n",
       "      <th></th>\n",
       "      <th>gender</th>\n",
       "      <th>lunch</th>\n",
       "      <th>parental level of education</th>\n",
       "      <th>race/ethnicity</th>\n",
       "      <th>test preparation course</th>\n",
       "    </tr>\n",
       "  </thead>\n",
       "  <tbody>\n",
       "    <tr>\n",
       "      <th>0</th>\n",
       "      <td>True</td>\n",
       "      <td>False</td>\n",
       "      <td>False</td>\n",
       "      <td>False</td>\n",
       "      <td>False</td>\n",
       "    </tr>\n",
       "    <tr>\n",
       "      <th>1</th>\n",
       "      <td>False</td>\n",
       "      <td>False</td>\n",
       "      <td>False</td>\n",
       "      <td>True</td>\n",
       "      <td>False</td>\n",
       "    </tr>\n",
       "    <tr>\n",
       "      <th>2</th>\n",
       "      <td>False</td>\n",
       "      <td>False</td>\n",
       "      <td>True</td>\n",
       "      <td>False</td>\n",
       "      <td>False</td>\n",
       "    </tr>\n",
       "    <tr>\n",
       "      <th>3</th>\n",
       "      <td>False</td>\n",
       "      <td>True</td>\n",
       "      <td>False</td>\n",
       "      <td>False</td>\n",
       "      <td>False</td>\n",
       "    </tr>\n",
       "    <tr>\n",
       "      <th>4</th>\n",
       "      <td>False</td>\n",
       "      <td>False</td>\n",
       "      <td>False</td>\n",
       "      <td>False</td>\n",
       "      <td>True</td>\n",
       "    </tr>\n",
       "  </tbody>\n",
       "</table>\n",
       "</div>"
      ],
      "text/plain": [
       "   gender  lunch  parental level of education  race/ethnicity  \\\n",
       "0    True  False                        False           False   \n",
       "1   False  False                        False            True   \n",
       "2   False  False                         True           False   \n",
       "3   False   True                        False           False   \n",
       "4   False  False                        False           False   \n",
       "\n",
       "   test preparation course  \n",
       "0                    False  \n",
       "1                    False  \n",
       "2                    False  \n",
       "3                    False  \n",
       "4                     True  "
      ]
     },
     "execution_count": 14,
     "metadata": {},
     "output_type": "execute_result"
    }
   ],
   "source": [
    "data1 = pd.get_dummies(cat_features)\n",
    "data1"
   ]
  },
  {
   "cell_type": "markdown",
   "id": "a2d5f8d4-8ef1-44fe-961b-4691d2ae202d",
   "metadata": {},
   "source": [
    "### `data1.info()` Description\n",
    "\n",
    "The `data1.info()` method provides a concise summary of the DataFrame `data1`. It includes the following details:\n",
    "\n",
    "- The number of entries (rows) in the DataFrame.\n",
    "- The index range.\n",
    "- The column names.\n",
    "- The number of non-null (non-missing) values in each column.\n",
    "- The data type (dtype) of each column (e.g., `int64`, `float64`, `object`).\n",
    "- The total memory usage of the DataFrame.\n",
    "\n",
    "This method is commonly used for quickly inspecting the structure and completeness of a dataset before performing any data analysis or preprocessing.\n"
   ]
  },
  {
   "cell_type": "code",
   "execution_count": 15,
   "id": "50a09f74-8d93-4350-81fc-5f5c8d561afa",
   "metadata": {},
   "outputs": [
    {
     "name": "stdout",
     "output_type": "stream",
     "text": [
      "<class 'pandas.core.frame.DataFrame'>\n",
      "RangeIndex: 5 entries, 0 to 4\n",
      "Data columns (total 5 columns):\n",
      " #   Column                       Non-Null Count  Dtype\n",
      "---  ------                       --------------  -----\n",
      " 0   gender                       5 non-null      bool \n",
      " 1   lunch                        5 non-null      bool \n",
      " 2   parental level of education  5 non-null      bool \n",
      " 3   race/ethnicity               5 non-null      bool \n",
      " 4   test preparation course      5 non-null      bool \n",
      "dtypes: bool(5)\n",
      "memory usage: 157.0 bytes\n"
     ]
    }
   ],
   "source": [
    "data1.info()"
   ]
  },
  {
   "cell_type": "markdown",
   "id": "625af3b3-b24d-4110-8f2c-773b44224dca",
   "metadata": {},
   "source": [
    "### One-Hot Encoding with `cat_features`\n",
    "\n",
    "In this code, we use **one-hot encoding** to convert categorical variables into a format that can be provided to machine learning algorithms to improve predictions.\n",
    "\n",
    "We define a list called `cat_features` which contains the names or indices of the **categorical features** in our dataset. These are the columns that contain non-numeric data, such as strings or labels.\n",
    "\n",
    "One-hot encoding creates new binary columns for each unique category in the specified `cat_features`. Each row will have a `1` in the column corresponding to its category, and `0`s elsewhere.\n",
    "\n",
    "This process is essential because many machine learning models (like decision trees or gradient boosting) cannot handle categorical data directly and require numeric input.\n",
    "\n",
    "For example:\n",
    "If a column `Color` contains values: `Red`, `Green`, `Blue`, one-hot encoding will create three new columns:\n",
    "- `Color_Red`\n",
    "- `Color_Green`\n",
    "- `Color_Blue`\n",
    "\n",
    "Each row will have a `1` under the appropriate column for its category and `0`s in the others.\n"
   ]
  },
  {
   "cell_type": "code",
   "execution_count": 16,
   "id": "b2a98eb1-3858-4da7-ae55-0be45522c09f",
   "metadata": {},
   "outputs": [
    {
     "data": {
      "text/plain": [
       "['gender',\n",
       " 'race/ethnicity',\n",
       " 'parental level of education',\n",
       " 'lunch',\n",
       " 'test preparation course']"
      ]
     },
     "execution_count": 16,
     "metadata": {},
     "output_type": "execute_result"
    }
   ],
   "source": [
    "cat_features"
   ]
  },
  {
   "cell_type": "markdown",
   "id": "69761309-404f-453b-9a3b-12d127b3c89c",
   "metadata": {},
   "source": [
    "### 🔍 Data Preprocessing with One-Hot Encoding\n",
    "\n",
    "This code performs preprocessing on a dataset (`st.csv`) using the following steps:\n",
    "\n",
    "1. **Import Required Libraries**:\n",
    "   - `pandas` for data manipulation.\n",
    "   - `numpy` for numerical operations.\n",
    "   - `StandardScaler` from `sklearn.preprocessing` (though not used yet in this snippet).\n",
    "\n",
    "2. **Load the Dataset**:\n",
    "   - The dataset is read from a CSV file into a pandas DataFrame called `data`.\n",
    "\n",
    "3. **Identify Categorical Features**:\n",
    "   - Categorical columns are identified by checking for columns with data type `'O'` (object/string type).\n",
    "   - These features are stored in the `cat_features` list.\n",
    "\n",
    "4. **One-Hot Encoding**:\n",
    "   - The identified categorical columns are transformed into binary (one-hot encoded) columns using `pd.get_dummies()`.\n",
    "   - This results in a new DataFrame `data1` with additional columns representing each category.\n",
    "\n",
    "5. **Combine Original and Encoded Data**:\n",
    "   - The original `data` and the one-hot encoded `data1` are concatenated along the columns to form `scaled_data`.\n",
    "\n",
    "6. **Output**:\n",
    "   - Prints the shape of the resulting DataFrame.\n",
    "   - Displays the first few rows to inspect the transformed dataset."
   ]
  },
  {
   "cell_type": "code",
   "execution_count": 19,
   "id": "ee8f3ed0-534b-4e4b-b0a4-1c8989590d55",
   "metadata": {},
   "outputs": [
    {
     "name": "stdout",
     "output_type": "stream",
     "text": [
      "(1000, 28)\n",
      "\n",
      "**********************************************************************\n"
     ]
    },
    {
     "data": {
      "text/html": [
       "<div>\n",
       "<style scoped>\n",
       "    .dataframe tbody tr th:only-of-type {\n",
       "        vertical-align: middle;\n",
       "    }\n",
       "\n",
       "    .dataframe tbody tr th {\n",
       "        vertical-align: top;\n",
       "    }\n",
       "\n",
       "    .dataframe thead th {\n",
       "        text-align: right;\n",
       "    }\n",
       "</style>\n",
       "<table border=\"1\" class=\"dataframe\">\n",
       "  <thead>\n",
       "    <tr style=\"text-align: right;\">\n",
       "      <th></th>\n",
       "      <th>gender</th>\n",
       "      <th>race/ethnicity</th>\n",
       "      <th>parental level of education</th>\n",
       "      <th>lunch</th>\n",
       "      <th>test preparation course</th>\n",
       "      <th>math score</th>\n",
       "      <th>reading score</th>\n",
       "      <th>writing score</th>\n",
       "      <th>math score</th>\n",
       "      <th>reading score</th>\n",
       "      <th>...</th>\n",
       "      <th>parental level of education_associate's degree</th>\n",
       "      <th>parental level of education_bachelor's degree</th>\n",
       "      <th>parental level of education_high school</th>\n",
       "      <th>parental level of education_master's degree</th>\n",
       "      <th>parental level of education_some college</th>\n",
       "      <th>parental level of education_some high school</th>\n",
       "      <th>lunch_free/reduced</th>\n",
       "      <th>lunch_standard</th>\n",
       "      <th>test preparation course_completed</th>\n",
       "      <th>test preparation course_none</th>\n",
       "    </tr>\n",
       "  </thead>\n",
       "  <tbody>\n",
       "    <tr>\n",
       "      <th>0</th>\n",
       "      <td>female</td>\n",
       "      <td>group B</td>\n",
       "      <td>bachelor's degree</td>\n",
       "      <td>standard</td>\n",
       "      <td>none</td>\n",
       "      <td>72</td>\n",
       "      <td>72</td>\n",
       "      <td>74</td>\n",
       "      <td>72</td>\n",
       "      <td>72</td>\n",
       "      <td>...</td>\n",
       "      <td>False</td>\n",
       "      <td>True</td>\n",
       "      <td>False</td>\n",
       "      <td>False</td>\n",
       "      <td>False</td>\n",
       "      <td>False</td>\n",
       "      <td>False</td>\n",
       "      <td>True</td>\n",
       "      <td>False</td>\n",
       "      <td>True</td>\n",
       "    </tr>\n",
       "    <tr>\n",
       "      <th>1</th>\n",
       "      <td>female</td>\n",
       "      <td>group C</td>\n",
       "      <td>some college</td>\n",
       "      <td>standard</td>\n",
       "      <td>completed</td>\n",
       "      <td>69</td>\n",
       "      <td>90</td>\n",
       "      <td>88</td>\n",
       "      <td>69</td>\n",
       "      <td>90</td>\n",
       "      <td>...</td>\n",
       "      <td>False</td>\n",
       "      <td>False</td>\n",
       "      <td>False</td>\n",
       "      <td>False</td>\n",
       "      <td>True</td>\n",
       "      <td>False</td>\n",
       "      <td>False</td>\n",
       "      <td>True</td>\n",
       "      <td>True</td>\n",
       "      <td>False</td>\n",
       "    </tr>\n",
       "    <tr>\n",
       "      <th>2</th>\n",
       "      <td>female</td>\n",
       "      <td>group B</td>\n",
       "      <td>master's degree</td>\n",
       "      <td>standard</td>\n",
       "      <td>none</td>\n",
       "      <td>90</td>\n",
       "      <td>95</td>\n",
       "      <td>93</td>\n",
       "      <td>90</td>\n",
       "      <td>95</td>\n",
       "      <td>...</td>\n",
       "      <td>False</td>\n",
       "      <td>False</td>\n",
       "      <td>False</td>\n",
       "      <td>True</td>\n",
       "      <td>False</td>\n",
       "      <td>False</td>\n",
       "      <td>False</td>\n",
       "      <td>True</td>\n",
       "      <td>False</td>\n",
       "      <td>True</td>\n",
       "    </tr>\n",
       "    <tr>\n",
       "      <th>3</th>\n",
       "      <td>male</td>\n",
       "      <td>group A</td>\n",
       "      <td>associate's degree</td>\n",
       "      <td>free/reduced</td>\n",
       "      <td>none</td>\n",
       "      <td>47</td>\n",
       "      <td>57</td>\n",
       "      <td>44</td>\n",
       "      <td>47</td>\n",
       "      <td>57</td>\n",
       "      <td>...</td>\n",
       "      <td>True</td>\n",
       "      <td>False</td>\n",
       "      <td>False</td>\n",
       "      <td>False</td>\n",
       "      <td>False</td>\n",
       "      <td>False</td>\n",
       "      <td>True</td>\n",
       "      <td>False</td>\n",
       "      <td>False</td>\n",
       "      <td>True</td>\n",
       "    </tr>\n",
       "    <tr>\n",
       "      <th>4</th>\n",
       "      <td>male</td>\n",
       "      <td>group C</td>\n",
       "      <td>some college</td>\n",
       "      <td>standard</td>\n",
       "      <td>none</td>\n",
       "      <td>76</td>\n",
       "      <td>78</td>\n",
       "      <td>75</td>\n",
       "      <td>76</td>\n",
       "      <td>78</td>\n",
       "      <td>...</td>\n",
       "      <td>False</td>\n",
       "      <td>False</td>\n",
       "      <td>False</td>\n",
       "      <td>False</td>\n",
       "      <td>True</td>\n",
       "      <td>False</td>\n",
       "      <td>False</td>\n",
       "      <td>True</td>\n",
       "      <td>False</td>\n",
       "      <td>True</td>\n",
       "    </tr>\n",
       "  </tbody>\n",
       "</table>\n",
       "<p>5 rows × 28 columns</p>\n",
       "</div>"
      ],
      "text/plain": [
       "   gender race/ethnicity parental level of education         lunch  \\\n",
       "0  female        group B           bachelor's degree      standard   \n",
       "1  female        group C                some college      standard   \n",
       "2  female        group B             master's degree      standard   \n",
       "3    male        group A          associate's degree  free/reduced   \n",
       "4    male        group C                some college      standard   \n",
       "\n",
       "  test preparation course  math score  reading score  writing score  \\\n",
       "0                    none          72             72             74   \n",
       "1               completed          69             90             88   \n",
       "2                    none          90             95             93   \n",
       "3                    none          47             57             44   \n",
       "4                    none          76             78             75   \n",
       "\n",
       "   math score  reading score  ...  \\\n",
       "0          72             72  ...   \n",
       "1          69             90  ...   \n",
       "2          90             95  ...   \n",
       "3          47             57  ...   \n",
       "4          76             78  ...   \n",
       "\n",
       "   parental level of education_associate's degree  \\\n",
       "0                                           False   \n",
       "1                                           False   \n",
       "2                                           False   \n",
       "3                                            True   \n",
       "4                                           False   \n",
       "\n",
       "   parental level of education_bachelor's degree  \\\n",
       "0                                           True   \n",
       "1                                          False   \n",
       "2                                          False   \n",
       "3                                          False   \n",
       "4                                          False   \n",
       "\n",
       "   parental level of education_high school  \\\n",
       "0                                    False   \n",
       "1                                    False   \n",
       "2                                    False   \n",
       "3                                    False   \n",
       "4                                    False   \n",
       "\n",
       "   parental level of education_master's degree  \\\n",
       "0                                        False   \n",
       "1                                        False   \n",
       "2                                         True   \n",
       "3                                        False   \n",
       "4                                        False   \n",
       "\n",
       "   parental level of education_some college  \\\n",
       "0                                     False   \n",
       "1                                      True   \n",
       "2                                     False   \n",
       "3                                     False   \n",
       "4                                      True   \n",
       "\n",
       "   parental level of education_some high school  lunch_free/reduced  \\\n",
       "0                                         False               False   \n",
       "1                                         False               False   \n",
       "2                                         False               False   \n",
       "3                                         False                True   \n",
       "4                                         False               False   \n",
       "\n",
       "   lunch_standard  test preparation course_completed  \\\n",
       "0            True                              False   \n",
       "1            True                               True   \n",
       "2            True                              False   \n",
       "3           False                              False   \n",
       "4            True                              False   \n",
       "\n",
       "   test preparation course_none  \n",
       "0                          True  \n",
       "1                         False  \n",
       "2                          True  \n",
       "3                          True  \n",
       "4                          True  \n",
       "\n",
       "[5 rows x 28 columns]"
      ]
     },
     "execution_count": 19,
     "metadata": {},
     "output_type": "execute_result"
    }
   ],
   "source": [
    "import pandas as pd\n",
    "import numpy as np\n",
    "from sklearn.preprocessing import StandardScaler\n",
    "data = pd.read_csv('st.csv')\n",
    "cat_features = [feature for feature in data.columns if data[feature].dtype == 'O']\n",
    "data1 = pd.get_dummies(data, columns=cat_features)\n",
    "scaled_data = pd.concat([data, data1], axis=1)\n",
    "print(scaled_data.shape)\n",
    "print()\n",
    "print('*' * 70)\n",
    "scaled_data.head()"
   ]
  },
  {
   "cell_type": "markdown",
   "id": "ce3f2414-36b7-4b64-bdba-7f7f0476971c",
   "metadata": {},
   "source": [
    "### `data.columns`\n",
    "\n",
    "The `data.columns` attribute in a pandas DataFrame returns an index object containing the column labels of the DataFrame."
   ]
  },
  {
   "cell_type": "code",
   "execution_count": 20,
   "id": "43c561d9-5c11-4989-b194-420b2f100df7",
   "metadata": {},
   "outputs": [
    {
     "data": {
      "text/plain": [
       "Index(['gender', 'race/ethnicity', 'parental level of education', 'lunch',\n",
       "       'test preparation course', 'math score', 'reading score',\n",
       "       'writing score'],\n",
       "      dtype='object')"
      ]
     },
     "execution_count": 20,
     "metadata": {},
     "output_type": "execute_result"
    }
   ],
   "source": [
    "data.columns"
   ]
  },
  {
   "cell_type": "markdown",
   "id": "93910ba2-ec5b-410f-b4b9-141f7d591b6f",
   "metadata": {},
   "source": [
    "### `scaled_data.columns`\n",
    "-\n",
    "This line displays the column names of the DataFrame `scaled_data`. It is useful for verifying which features are present in the dataset after preprocessing steps such as scaling, encoding, or feature selection.\n"
   ]
  },
  {
   "cell_type": "code",
   "execution_count": 21,
   "id": "a89d2ef7-a456-4197-a50b-2f746c399688",
   "metadata": {},
   "outputs": [
    {
     "data": {
      "text/plain": [
       "Index(['gender', 'race/ethnicity', 'parental level of education', 'lunch',\n",
       "       'test preparation course', 'math score', 'reading score',\n",
       "       'writing score', 'math score', 'reading score', 'writing score',\n",
       "       'gender_female', 'gender_male', 'race/ethnicity_group A',\n",
       "       'race/ethnicity_group B', 'race/ethnicity_group C',\n",
       "       'race/ethnicity_group D', 'race/ethnicity_group E',\n",
       "       'parental level of education_associate's degree',\n",
       "       'parental level of education_bachelor's degree',\n",
       "       'parental level of education_high school',\n",
       "       'parental level of education_master's degree',\n",
       "       'parental level of education_some college',\n",
       "       'parental level of education_some high school', 'lunch_free/reduced',\n",
       "       'lunch_standard', 'test preparation course_completed',\n",
       "       'test preparation course_none'],\n",
       "      dtype='object')"
      ]
     },
     "execution_count": 21,
     "metadata": {},
     "output_type": "execute_result"
    }
   ],
   "source": [
    "scaled_data.columns"
   ]
  },
  {
   "cell_type": "markdown",
   "id": "74464533-4920-458f-b6cd-cb06ef65d5e4",
   "metadata": {},
   "source": [
    "### data1.head()\n",
    "\n",
    "Displaying the First Few Rows of the Dataset\n",
    "The following line of code:\n",
    "\n",
    "```python\n",
    "data1.head()\n"
   ]
  },
  {
   "cell_type": "code",
   "execution_count": 22,
   "id": "e78bccaf-db70-4c65-af9b-709ab49b3ae9",
   "metadata": {},
   "outputs": [
    {
     "data": {
      "text/html": [
       "<div>\n",
       "<style scoped>\n",
       "    .dataframe tbody tr th:only-of-type {\n",
       "        vertical-align: middle;\n",
       "    }\n",
       "\n",
       "    .dataframe tbody tr th {\n",
       "        vertical-align: top;\n",
       "    }\n",
       "\n",
       "    .dataframe thead th {\n",
       "        text-align: right;\n",
       "    }\n",
       "</style>\n",
       "<table border=\"1\" class=\"dataframe\">\n",
       "  <thead>\n",
       "    <tr style=\"text-align: right;\">\n",
       "      <th></th>\n",
       "      <th>math score</th>\n",
       "      <th>reading score</th>\n",
       "      <th>writing score</th>\n",
       "      <th>gender_female</th>\n",
       "      <th>gender_male</th>\n",
       "      <th>race/ethnicity_group A</th>\n",
       "      <th>race/ethnicity_group B</th>\n",
       "      <th>race/ethnicity_group C</th>\n",
       "      <th>race/ethnicity_group D</th>\n",
       "      <th>race/ethnicity_group E</th>\n",
       "      <th>parental level of education_associate's degree</th>\n",
       "      <th>parental level of education_bachelor's degree</th>\n",
       "      <th>parental level of education_high school</th>\n",
       "      <th>parental level of education_master's degree</th>\n",
       "      <th>parental level of education_some college</th>\n",
       "      <th>parental level of education_some high school</th>\n",
       "      <th>lunch_free/reduced</th>\n",
       "      <th>lunch_standard</th>\n",
       "      <th>test preparation course_completed</th>\n",
       "      <th>test preparation course_none</th>\n",
       "    </tr>\n",
       "  </thead>\n",
       "  <tbody>\n",
       "    <tr>\n",
       "      <th>0</th>\n",
       "      <td>72</td>\n",
       "      <td>72</td>\n",
       "      <td>74</td>\n",
       "      <td>True</td>\n",
       "      <td>False</td>\n",
       "      <td>False</td>\n",
       "      <td>True</td>\n",
       "      <td>False</td>\n",
       "      <td>False</td>\n",
       "      <td>False</td>\n",
       "      <td>False</td>\n",
       "      <td>True</td>\n",
       "      <td>False</td>\n",
       "      <td>False</td>\n",
       "      <td>False</td>\n",
       "      <td>False</td>\n",
       "      <td>False</td>\n",
       "      <td>True</td>\n",
       "      <td>False</td>\n",
       "      <td>True</td>\n",
       "    </tr>\n",
       "    <tr>\n",
       "      <th>1</th>\n",
       "      <td>69</td>\n",
       "      <td>90</td>\n",
       "      <td>88</td>\n",
       "      <td>True</td>\n",
       "      <td>False</td>\n",
       "      <td>False</td>\n",
       "      <td>False</td>\n",
       "      <td>True</td>\n",
       "      <td>False</td>\n",
       "      <td>False</td>\n",
       "      <td>False</td>\n",
       "      <td>False</td>\n",
       "      <td>False</td>\n",
       "      <td>False</td>\n",
       "      <td>True</td>\n",
       "      <td>False</td>\n",
       "      <td>False</td>\n",
       "      <td>True</td>\n",
       "      <td>True</td>\n",
       "      <td>False</td>\n",
       "    </tr>\n",
       "    <tr>\n",
       "      <th>2</th>\n",
       "      <td>90</td>\n",
       "      <td>95</td>\n",
       "      <td>93</td>\n",
       "      <td>True</td>\n",
       "      <td>False</td>\n",
       "      <td>False</td>\n",
       "      <td>True</td>\n",
       "      <td>False</td>\n",
       "      <td>False</td>\n",
       "      <td>False</td>\n",
       "      <td>False</td>\n",
       "      <td>False</td>\n",
       "      <td>False</td>\n",
       "      <td>True</td>\n",
       "      <td>False</td>\n",
       "      <td>False</td>\n",
       "      <td>False</td>\n",
       "      <td>True</td>\n",
       "      <td>False</td>\n",
       "      <td>True</td>\n",
       "    </tr>\n",
       "    <tr>\n",
       "      <th>3</th>\n",
       "      <td>47</td>\n",
       "      <td>57</td>\n",
       "      <td>44</td>\n",
       "      <td>False</td>\n",
       "      <td>True</td>\n",
       "      <td>True</td>\n",
       "      <td>False</td>\n",
       "      <td>False</td>\n",
       "      <td>False</td>\n",
       "      <td>False</td>\n",
       "      <td>True</td>\n",
       "      <td>False</td>\n",
       "      <td>False</td>\n",
       "      <td>False</td>\n",
       "      <td>False</td>\n",
       "      <td>False</td>\n",
       "      <td>True</td>\n",
       "      <td>False</td>\n",
       "      <td>False</td>\n",
       "      <td>True</td>\n",
       "    </tr>\n",
       "    <tr>\n",
       "      <th>4</th>\n",
       "      <td>76</td>\n",
       "      <td>78</td>\n",
       "      <td>75</td>\n",
       "      <td>False</td>\n",
       "      <td>True</td>\n",
       "      <td>False</td>\n",
       "      <td>False</td>\n",
       "      <td>True</td>\n",
       "      <td>False</td>\n",
       "      <td>False</td>\n",
       "      <td>False</td>\n",
       "      <td>False</td>\n",
       "      <td>False</td>\n",
       "      <td>False</td>\n",
       "      <td>True</td>\n",
       "      <td>False</td>\n",
       "      <td>False</td>\n",
       "      <td>True</td>\n",
       "      <td>False</td>\n",
       "      <td>True</td>\n",
       "    </tr>\n",
       "  </tbody>\n",
       "</table>\n",
       "</div>"
      ],
      "text/plain": [
       "   math score  reading score  writing score  gender_female  gender_male  \\\n",
       "0          72             72             74           True        False   \n",
       "1          69             90             88           True        False   \n",
       "2          90             95             93           True        False   \n",
       "3          47             57             44          False         True   \n",
       "4          76             78             75          False         True   \n",
       "\n",
       "   race/ethnicity_group A  race/ethnicity_group B  race/ethnicity_group C  \\\n",
       "0                   False                    True                   False   \n",
       "1                   False                   False                    True   \n",
       "2                   False                    True                   False   \n",
       "3                    True                   False                   False   \n",
       "4                   False                   False                    True   \n",
       "\n",
       "   race/ethnicity_group D  race/ethnicity_group E  \\\n",
       "0                   False                   False   \n",
       "1                   False                   False   \n",
       "2                   False                   False   \n",
       "3                   False                   False   \n",
       "4                   False                   False   \n",
       "\n",
       "   parental level of education_associate's degree  \\\n",
       "0                                           False   \n",
       "1                                           False   \n",
       "2                                           False   \n",
       "3                                            True   \n",
       "4                                           False   \n",
       "\n",
       "   parental level of education_bachelor's degree  \\\n",
       "0                                           True   \n",
       "1                                          False   \n",
       "2                                          False   \n",
       "3                                          False   \n",
       "4                                          False   \n",
       "\n",
       "   parental level of education_high school  \\\n",
       "0                                    False   \n",
       "1                                    False   \n",
       "2                                    False   \n",
       "3                                    False   \n",
       "4                                    False   \n",
       "\n",
       "   parental level of education_master's degree  \\\n",
       "0                                        False   \n",
       "1                                        False   \n",
       "2                                         True   \n",
       "3                                        False   \n",
       "4                                        False   \n",
       "\n",
       "   parental level of education_some college  \\\n",
       "0                                     False   \n",
       "1                                      True   \n",
       "2                                     False   \n",
       "3                                     False   \n",
       "4                                      True   \n",
       "\n",
       "   parental level of education_some high school  lunch_free/reduced  \\\n",
       "0                                         False               False   \n",
       "1                                         False               False   \n",
       "2                                         False               False   \n",
       "3                                         False                True   \n",
       "4                                         False               False   \n",
       "\n",
       "   lunch_standard  test preparation course_completed  \\\n",
       "0            True                              False   \n",
       "1            True                               True   \n",
       "2            True                              False   \n",
       "3           False                              False   \n",
       "4            True                              False   \n",
       "\n",
       "   test preparation course_none  \n",
       "0                          True  \n",
       "1                         False  \n",
       "2                          True  \n",
       "3                          True  \n",
       "4                          True  "
      ]
     },
     "execution_count": 22,
     "metadata": {},
     "output_type": "execute_result"
    }
   ],
   "source": [
    "data1.head()"
   ]
  },
  {
   "cell_type": "markdown",
   "id": "3bad748f-21aa-413b-8b55-3c0fe78842cb",
   "metadata": {},
   "source": [
    "# 6: Data Reduction"
   ]
  },
  {
   "cell_type": "markdown",
   "id": "a9c0badb-7363-42dd-ab76-25eea578f388",
   "metadata": {},
   "source": [
    "### What is Data Reduction?\n",
    "\n",
    "**Data Reduction** refers to the process of reducing the volume of data while preserving its integrity and analytical value. It is an essential step in data preprocessing, especially when dealing with large datasets, as it helps improve performance, reduce storage needs, and speed up data analysis and modeling.\n",
    "\n",
    "There are several techniques for data reduction, including:\n",
    "\n",
    "- **Dimensionality Reduction**: Reducing the number of features (e.g., using PCA or feature selection).\n",
    "- **Numerosity Reduction**: Representing data in a more compact form (e.g., histograms, clustering).\n",
    "- **Data Compression**: Encoding data more efficiently.\n",
    "- **Data Aggregation**: Combining data (e.g., summarizing weekly sales from daily records).\n",
    "\n",
    "The goal is to retain meaningful information while making the dataset smaller and more manageable.\n"
   ]
  },
  {
   "cell_type": "markdown",
   "id": "64058d9a-de3c-4d15-8c58-8a8b2ec85b6b",
   "metadata": {},
   "source": [
    "Dimensionality Reduction\n",
    "-\n",
    "PCA (Principal Component Analysis)"
   ]
  },
  {
   "cell_type": "markdown",
   "id": "d9674f93-9f44-4960-819d-dac56459d10b",
   "metadata": {},
   "source": [
    "### `scaled_data.shape`\n",
    "\n",
    "This line returns the shape of the `scaled_data` array or DataFrame. It provides a tuple representing the number of rows and columns, in the format `(rows, columns)`. This is useful for verifying the dimensions of your data after preprocessing steps like scaling.\n"
   ]
  },
  {
   "cell_type": "code",
   "execution_count": 23,
   "id": "997d9a21-aea1-4aa7-810f-f57137e671c5",
   "metadata": {},
   "outputs": [
    {
     "data": {
      "text/plain": [
       "(1000, 28)"
      ]
     },
     "execution_count": 23,
     "metadata": {},
     "output_type": "execute_result"
    }
   ],
   "source": [
    "scaled_data.shape"
   ]
  },
  {
   "cell_type": "markdown",
   "id": "88e39027-b816-4585-ac4a-925b4e622cd5",
   "metadata": {},
   "source": [
    "#### **Importing Libraries:**  \n",
    "   We begin by importing essential Python libraries like `pandas`, `numpy`, `matplotlib.pyplot` for data handling and plotting, and Scikit-learn modules like `StandardScaler` and `PCA` for preprocessing and dimensionality reduction.\n"
   ]
  },
  {
   "cell_type": "code",
   "execution_count": 25,
   "id": "c9bc17fd-e732-47ac-9c26-176c1551ad4b",
   "metadata": {},
   "outputs": [],
   "source": [
    "import pandas as pd\n",
    "import numpy as np\n",
    "import matplotlib.pyplot as plt\n",
    "from sklearn.preprocessing import StandardScaler\n",
    "from sklearn.decomposition import PCA"
   ]
  },
  {
   "cell_type": "markdown",
   "id": "bbe96dbf-4e96-4d6a-8741-2ff627d8346a",
   "metadata": {},
   "source": [
    "#### Load and Clean Data "
   ]
  },
  {
   "cell_type": "code",
   "execution_count": 26,
   "id": "ca961f5c-1371-44f5-80c2-b49b873df239",
   "metadata": {},
   "outputs": [],
   "source": [
    "df = pd.read_csv('st.csv')"
   ]
  },
  {
   "cell_type": "markdown",
   "id": "25a14b3d-eafb-45c9-9049-c12a7c2f198b",
   "metadata": {},
   "source": [
    "#### Handle missing values (if any)"
   ]
  },
  {
   "cell_type": "code",
   "execution_count": 28,
   "id": "ccd31558-ca2f-4a7e-9377-fe49958e42f3",
   "metadata": {},
   "outputs": [],
   "source": [
    "data.fillna(data.mean(numeric_only=True), inplace=True)"
   ]
  },
  {
   "cell_type": "markdown",
   "id": "161d1fcf-52f0-42cc-b5fc-8bfeb08a6303",
   "metadata": {},
   "source": [
    "#### Separate categorical and numeric columns"
   ]
  },
  {
   "cell_type": "code",
   "execution_count": 29,
   "id": "e0fe2bf4-6308-4034-81bd-013f7f2ace62",
   "metadata": {},
   "outputs": [],
   "source": [
    "cat_features = [feature for feature in data.columns if data[feature].dtype == 'O']\n",
    "numeric_features = [feature for feature in data.columns if data[feature].dtype != 'O']"
   ]
  },
  {
   "cell_type": "markdown",
   "id": "9a957fef-0934-4acc-8237-48e935b684a6",
   "metadata": {},
   "source": [
    "#### Convert categorical columns using pd.get_dummies"
   ]
  },
  {
   "cell_type": "code",
   "execution_count": 30,
   "id": "9519eaf6-352e-49be-b529-bf20f5312c30",
   "metadata": {},
   "outputs": [],
   "source": [
    "data = pd.get_dummies(data, columns=cat_features)"
   ]
  },
  {
   "cell_type": "markdown",
   "id": "613cc4a4-db79-4d24-bc06-8e47d6d9ed1e",
   "metadata": {},
   "source": [
    "#### Standardize the numeric columns"
   ]
  },
  {
   "cell_type": "code",
   "execution_count": 31,
   "id": "f6e33cde-fddc-47c4-a516-8f8a91dc218f",
   "metadata": {},
   "outputs": [],
   "source": [
    "scaler = StandardScaler()\n",
    "data[numeric_features] = scaler.fit_transform(data[numeric_features].values)"
   ]
  },
  {
   "cell_type": "markdown",
   "id": "9e448f63-3233-438b-892e-8e6dd3e1d867",
   "metadata": {},
   "source": [
    "#### Apply PCA"
   ]
  },
  {
   "cell_type": "code",
   "execution_count": 32,
   "id": "aefabcf2-e68a-4e50-b88c-5804119dd50f",
   "metadata": {},
   "outputs": [],
   "source": [
    "pca = PCA(n_components=15)\n",
    "data_pca = pca.fit_transform(data)"
   ]
  },
  {
   "cell_type": "markdown",
   "id": "738a7deb-3f5d-47f7-a639-254d35e7b02e",
   "metadata": {},
   "source": [
    "#### Check the shape of the PCA data"
   ]
  },
  {
   "cell_type": "code",
   "execution_count": 33,
   "id": "eb4350ad-843f-4416-af7f-b3f1dd44929a",
   "metadata": {},
   "outputs": [
    {
     "name": "stdout",
     "output_type": "stream",
     "text": [
      "(1000, 15)\n"
     ]
    }
   ],
   "source": [
    "print(data_pca.shape)"
   ]
  },
  {
   "cell_type": "markdown",
   "id": "185d5d1c-2b61-46ff-b860-6f89a7b816f6",
   "metadata": {},
   "source": [
    "#### Print the first 5 rows of the PCA-transformed data"
   ]
  },
  {
   "cell_type": "code",
   "execution_count": 34,
   "id": "2c237918-6c09-49e0-b7a2-ecaa2599f624",
   "metadata": {},
   "outputs": [
    {
     "name": "stdout",
     "output_type": "stream",
     "text": [
      "[[ 0.80506576 -0.61673442 -1.74069469 -0.5477223  -0.63105211  1.43700298\n",
      "   0.18260689  1.29748269  1.75970538 -2.14744024 -0.56482987 -0.73545848\n",
      "   1.04777739  0.37307401  0.00567677]\n",
      " [ 2.72604197 -1.20602141  0.2452826  -1.02923047  0.54619131 -1.90441441\n",
      "   1.68099776 -0.33001777 -0.53959278 -0.33855832 -0.12423391  0.34808011\n",
      "  -0.00989249 -0.53736187 -0.0679873 ]\n",
      " [ 2.75106961 -0.7750918  -2.01547769  0.75352181 -0.73824832  1.22298898\n",
      "  -0.5491515   1.34374796 -0.22715978 -0.73000245  3.26072663  1.55876489\n",
      "   2.05330854  0.21318432 -0.10603983]\n",
      " [-3.20931681  0.53172225  0.97351738  0.73875443  0.83046975  0.99383023\n",
      "  -0.95791459 -1.42476959  1.3459661   0.58013669 -1.06074396  2.70324555\n",
      "   0.18560605 -0.40456081 -0.34665699]\n",
      " [ 0.59107802  1.65961573 -0.9398972   0.31345387  1.38602658 -1.6626232\n",
      "   1.4177306  -0.20501805 -0.05222893 -0.93835321  0.62933721  0.42565641\n",
      "  -0.54474106 -0.36765685  0.08119478]]\n"
     ]
    }
   ],
   "source": [
    "print(data_pca[:5])"
   ]
  },
  {
   "cell_type": "markdown",
   "id": "1fb673ac-042a-47d6-a3d6-285053a29d66",
   "metadata": {},
   "source": [
    "#### Plot the original data (first two numeric features)"
   ]
  },
  {
   "cell_type": "code",
   "execution_count": 35,
   "id": "b1f49ea3-8c17-48cc-8386-9322fef75ab9",
   "metadata": {},
   "outputs": [
    {
     "data": {
      "text/plain": [
       "Text(0, 0.5, 'reading score')"
      ]
     },
     "execution_count": 35,
     "metadata": {},
     "output_type": "execute_result"
    },
    {
     "data": {
      "image/png": "[encoded data removed]",
      "text/plain": [
       "<Figure size 1400x600 with 1 Axes>"
      ]
     },
     "metadata": {},
     "output_type": "display_data"
    }
   ],
   "source": [
    "plt.figure(figsize=(14, 6))\n",
    "plt.subplot(1, 2, 1)\n",
    "plt.scatter(data[numeric_features[0]], data[numeric_features[1]], alpha=0.5)\n",
    "plt.title('Original Data')\n",
    "plt.xlabel(numeric_features[0])\n",
    "plt.ylabel(numeric_features[1])"
   ]
  },
  {
   "cell_type": "markdown",
   "id": "4d020510-931a-49eb-bbb0-2dc93d85e309",
   "metadata": {},
   "source": [
    "#### Apply PCA\n",
    "#### Reducing to 2 components for visualization"
   ]
  },
  {
   "cell_type": "code",
   "execution_count": 36,
   "id": "f7589ef9-64e5-4f33-b9f4-410d4888ec98",
   "metadata": {},
   "outputs": [],
   "source": [
    "pca = PCA(n_components=15)"
   ]
  },
  {
   "cell_type": "code",
   "execution_count": 37,
   "id": "96089ac6-284b-4f8a-a214-ae1690f167e7",
   "metadata": {},
   "outputs": [],
   "source": [
    "data_pca = pca.fit_transform(data)"
   ]
  },
  {
   "cell_type": "markdown",
   "id": "5417ddfb-8da2-4b48-a190-c1e5689a36ee",
   "metadata": {},
   "source": [
    "#### Plot the PCA transformed data"
   ]
  },
  {
   "cell_type": "code",
   "execution_count": 38,
   "id": "e8ad9f2d-2f40-4653-95e7-38cabefb58c8",
   "metadata": {},
   "outputs": [
    {
     "data": {
      "image/png": "[encoded data removed]",
      "text/plain": [
       "<Figure size 640x480 with 1 Axes>"
      ]
     },
     "metadata": {},
     "output_type": "display_data"
    }
   ],
   "source": [
    "plt.subplot(1, 2, 2)\n",
    "plt.scatter(data_pca[:, 0], data_pca[:, 1], alpha=0.5)\n",
    "plt.title('PCA Transformed Data')\n",
    "plt.xlabel('Principal Component 1')\n",
    "plt.ylabel('Principal Component 2')\n",
    "plt.tight_layout()\n",
    "plt.show()"
   ]
  },
  {
   "cell_type": "markdown",
   "id": "2e36d366-3791-47d0-935b-331ddd903173",
   "metadata": {},
   "source": [
    "#### type(data_pca)`\n",
    "\n",
    "The expression `type(data_pca)` is used to check the data type of the variable `data_pca`.\n",
    "In Python, the `type()` function returns the class type of an object. This is helpful when you want to verify what kind of data structure (e.g., `DataFrame`, `ndarray`, `list`, etc.) a variable holds — especially after transformations such as PCA (Principal Component Analysis)."
   ]
  },
  {
   "cell_type": "code",
   "execution_count": 39,
   "id": "9ee8566d-1943-490b-bff6-3159e1a8ab04",
   "metadata": {},
   "outputs": [
    {
     "data": {
      "text/plain": [
       "numpy.ndarray"
      ]
     },
     "execution_count": 39,
     "metadata": {},
     "output_type": "execute_result"
    }
   ],
   "source": [
    "type(data_pca)"
   ]
  },
  {
   "cell_type": "markdown",
   "id": "fc71c9b3-5c72-42fd-994a-7fc54a5f381f",
   "metadata": {},
   "source": [
    "#### data_pca.ndim\n",
    "`data_pca.ndim` returns the number of dimensions (also known as the rank) of the `data_pca` array or object.\n",
    "For example:\n",
    "- If `data_pca` is a 1-dimensional array (like a list or vector), `data_pca.ndim` will return `1`.\n",
    "- If it's a 2-dimensional array (like a matrix), it will return `2`.\n",
    "This is useful for understanding the structure of your data after applying transformations like PCA (Principal Component Analysis).\n"
   ]
  },
  {
   "cell_type": "code",
   "execution_count": 40,
   "id": "8df5c02f-6d32-428d-91f5-5727da743ce6",
   "metadata": {},
   "outputs": [
    {
     "data": {
      "text/plain": [
       "2"
      ]
     },
     "execution_count": 40,
     "metadata": {},
     "output_type": "execute_result"
    }
   ],
   "source": [
    "data_pca.ndim"
   ]
  },
  {
   "cell_type": "markdown",
   "id": "344bed07-5344-4ca4-ab53-e97d86ed078f",
   "metadata": {},
   "source": [
    "#### data_pca.shape\n",
    "`data_pca.shape` returns a tuple representing the dimensions of the `data_pca` array or DataFrame.\n",
    "\n",
    "- The first value indicates the number of rows (i.e., data samples).\n",
    "- The second value indicates the number of columns (i.e., features after PCA transformation).\n",
    "\n",
    "This is useful to verify the size of the dataset after applying Principal Component Analysis (PCA).\n"
   ]
  },
  {
   "cell_type": "code",
   "execution_count": 41,
   "id": "6ee5a90d-c444-46bb-8324-3e4e80fac161",
   "metadata": {},
   "outputs": [
    {
     "data": {
      "text/plain": [
       "(1000, 15)"
      ]
     },
     "execution_count": 41,
     "metadata": {},
     "output_type": "execute_result"
    }
   ],
   "source": [
    "data_pca.shape"
   ]
  },
  {
   "cell_type": "markdown",
   "id": "d632de05-64be-449a-9ee4-3ee428e0dc1c",
   "metadata": {},
   "source": [
    "# 7: Handling Imbalanced Data\n",
    "    \n",
    "### Resampling Techniques\n",
    "\n",
    "Resampling techniques are statistical methods used to improve the performance and evaluation of models by modifying the distribution of a dataset. These techniques are especially useful when dealing with **imbalanced datasets**, where some classes have significantly more samples than others. The main goal is to either increase the number of minority class samples (**oversampling**) or decrease the number of majority class samples (**undersampling**) to balance the class distribution.\n",
    "\n",
    "#### Common Resampling Techniques:\n",
    "- **Oversampling**: Increases the number of samples in the minority class by replicating existing samples or creating synthetic ones (e.g., using SMOTE).\n",
    "- **Undersampling**: Reduces the number of samples in the majority class by randomly removing instances.\n",
    "- **SMOTE (Synthetic Minority Over-sampling Technique)**: A more advanced oversampling technique that generates synthetic examples rather than duplicating existing samples.\n",
    "\n",
    "These techniques help machine learning models learn more effectively by ensuring the model doesn't become biased toward the majority class, improving performance metrics like accuracy, recall, and precision on imbalanced datasets.\n",
    "\n",
    "###  Oversampling\n",
    "\n",
    "**Oversampling** is a technique used in machine learning to handle **imbalanced datasets**, where one class (usually the minority class) has significantly fewer samples than the other.\n",
    "\n",
    "The main goal of oversampling is to **increase the number of samples in the minority class** to balance the class distribution, which helps improve model performance and avoid bias toward the majority class.\n",
    "\n",
    "#### Common Methods of Oversampling:\n",
    "- **Random Oversampling**: Randomly duplicates examples from the minority class.\n",
    "- **SMOTE (Synthetic Minority Over-sampling Technique)**: Creates synthetic samples based on existing ones.\n",
    "\n",
    "Oversampling is commonly used in classification problems where accurate prediction of the minority class is important, such as:\n",
    "- Fraud detection\n",
    "- Medical diagnosis\n",
    "- Fault detection in systems\n"
   ]
  },
  {
   "cell_type": "markdown",
   "id": "eea62fc0-a552-41d9-ad1c-d20e90d54d26",
   "metadata": {},
   "source": [
    "This code reads data from a CSV file named `st.csv` into a Pandas DataFrame named `data`.  \n",
    "It then uses the `.value_counts(normalize=True)` method on the `alive` column to display the **relative frequency (proportion)** of each unique value in that column.\n",
    "\n",
    "In other words, it shows how often each category appears in the `alive` column, expressed as a percentage of the total number of entries.\n"
   ]
  },
  {
   "cell_type": "code",
   "execution_count": 44,
   "id": "c8c67525-e739-4c78-aad3-f3722f32c4c1",
   "metadata": {},
   "outputs": [
    {
     "data": {
      "text/plain": [
       "gender\n",
       "female    0.518\n",
       "male      0.482\n",
       "Name: proportion, dtype: float64"
      ]
     },
     "execution_count": 44,
     "metadata": {},
     "output_type": "execute_result"
    }
   ],
   "source": [
    "data = pd.read_csv('st.csv')\n",
    "data.gender.value_counts(True)"
   ]
  },
  {
   "cell_type": "code",
   "execution_count": 45,
   "id": "344177c4-e07c-4317-878b-02f7465d9373",
   "metadata": {},
   "outputs": [
    {
     "data": {
      "text/plain": [
       "(1000, 8)"
      ]
     },
     "execution_count": 45,
     "metadata": {},
     "output_type": "execute_result"
    }
   ],
   "source": [
    "data.shape"
   ]
  },
  {
   "cell_type": "markdown",
   "id": "73c1fd5b-ec98-44f6-a83d-b3debd94fe30",
   "metadata": {},
   "source": [
    "#### 📦 Importing Libraries\n",
    "\n",
    "The following libraries are imported to perform data preprocessing, visualization, and dimensionality reduction:\n",
    "\n",
    "- `pandas` – Used for data manipulation and analysis through DataFrames.\n",
    "- `numpy` – Provides support for numerical operations and array handling.\n",
    "- `sklearn.preprocessing.StandardScaler` – Standardizes features by removing the mean and scaling to unit variance.\n",
    "- `sklearn.preprocessing.LabelEncoder` – Converts categorical labels into numeric format.\n",
    "- `sklearn.decomposition.PCA` – Principal Component Analysis used for dimensionality reduction.\n",
    "- `imblearn.over_sampling.SMOTE` – Synthetic Minority Over-sampling Technique for handling class imbalance by generating synthetic samples.\n",
    "- `matplotlib.pyplot` – Used for plotting and data visualization.\n"
   ]
  },
  {
   "cell_type": "code",
   "execution_count": 47,
   "id": "4f50f361-46f3-41d5-bbc0-ae391218d59e",
   "metadata": {},
   "outputs": [],
   "source": [
    "import pandas as pd\n",
    "import numpy as np\n",
    "from sklearn.preprocessing import StandardScaler, LabelEncoder\n",
    "from sklearn.decomposition import PCA\n",
    "from imblearn.over_sampling import SMOTE\n",
    "import matplotlib.pyplot as plt"
   ]
  },
  {
   "cell_type": "markdown",
   "id": "1e8fdeaf-3198-4914-837a-0bcea7dd3393",
   "metadata": {},
   "source": [
    "#### Load the dataset"
   ]
  },
  {
   "cell_type": "code",
   "execution_count": 48,
   "id": "f06d9c3c-6b58-4400-a2b1-3b81c96e5783",
   "metadata": {},
   "outputs": [],
   "source": [
    "data = pd.read_csv('st.csv')"
   ]
  },
  {
   "cell_type": "markdown",
   "id": "9ef58ebd-2708-4513-884a-25e99e284a78",
   "metadata": {},
   "source": [
    "#### Handle missing values (if any)"
   ]
  },
  {
   "cell_type": "code",
   "execution_count": 49,
   "id": "e6ac8d55-5ddf-4e05-9720-226e9be08f2d",
   "metadata": {},
   "outputs": [],
   "source": [
    "data.fillna(data.mean(numeric_only=True), inplace=True)"
   ]
  },
  {
   "cell_type": "markdown",
   "id": "c76a6e12-0e3d-478b-ad35-a7a41ec55571",
   "metadata": {},
   "source": [
    "#### Separate categorical and numeric columns"
   ]
  },
  {
   "cell_type": "code",
   "execution_count": 50,
   "id": "c7a542e6-64a6-40ef-820c-ce476df968ae",
   "metadata": {},
   "outputs": [],
   "source": [
    "cat_features = [feature for feature in data.columns if data[feature].dtype == 'O']\n",
    "numeric_features = [feature for feature in data.columns if data[feature].dtype != 'O']"
   ]
  },
  {
   "cell_type": "markdown",
   "id": "4a4a30bb-5d09-4b81-8a65-57d3215f11e6",
   "metadata": {},
   "source": [
    "#### Convert categorical columns using pd.get_dummies"
   ]
  },
  {
   "cell_type": "code",
   "execution_count": 51,
   "id": "65b38ee9-82cc-427c-b0b7-ea61bc585450",
   "metadata": {},
   "outputs": [],
   "source": [
    "data = pd.get_dummies(data, columns=cat_features)"
   ]
  },
  {
   "cell_type": "markdown",
   "id": "9e43d4d0-85e8-4826-9791-5ae0f210bd66",
   "metadata": {},
   "source": [
    "#### Standardize the numeric columns"
   ]
  },
  {
   "cell_type": "code",
   "execution_count": 53,
   "id": "67f67bcb-06e5-46c1-99a3-e9a47f11fe5e",
   "metadata": {},
   "outputs": [],
   "source": [
    "scaler = StandardScaler()\n",
    "data[numeric_features] = scaler.fit_transform(data[numeric_features].values)"
   ]
  },
  {
   "cell_type": "markdown",
   "id": "b9c595b2-44b5-4cff-a46c-3ded2f46f2d0",
   "metadata": {},
   "source": [
    "#### Convert the target variable to categorical if necessary\n",
    "#### Assuming 'math score' is the target column, you may need to binarize or discretize it"
   ]
  },
  {
   "cell_type": "code",
   "execution_count": 59,
   "id": "20a8837a-c11d-401b-adc4-4304b420e8a4",
   "metadata": {},
   "outputs": [],
   "source": [
    "if data['math score'].dtype != 'int64' and data['math score'].dtype != 'bool':\n",
    "     data['math score'] = (data['math score'] > 0.5).astype(int)"
   ]
  },
  {
   "cell_type": "markdown",
   "id": "16f422ce-fc56-418e-b116-ba6766a7488b",
   "metadata": {},
   "source": [
    "#### Separate features and target"
   ]
  },
  {
   "cell_type": "markdown",
   "id": "7e67d7d1-e048-44d8-b402-b5ff2b5cf181",
   "metadata": {},
   "source": [
    "##### Replace 'math score' with your target column"
   ]
  },
  {
   "cell_type": "code",
   "execution_count": 61,
   "id": "3f68e2eb-bb42-4d19-98a9-06c6302d5331",
   "metadata": {},
   "outputs": [],
   "source": [
    "X = data.drop(columns=['math score'])"
   ]
  },
  {
   "cell_type": "markdown",
   "id": "687ea4c6-38f2-4c62-add0-fa478c4e7374",
   "metadata": {},
   "source": [
    "##### Replace 'math score' with your target column"
   ]
  },
  {
   "cell_type": "code",
   "execution_count": 62,
   "id": "e8893efe-d1ad-43ec-9406-54e99a662fd5",
   "metadata": {},
   "outputs": [],
   "source": [
    "y = data['math score']"
   ]
  },
  {
   "cell_type": "markdown",
   "id": "65d9c1cf-0571-4f53-bfb7-062c959f5957",
   "metadata": {},
   "source": [
    "#### Encode the target variable if it's not already encoded"
   ]
  },
  {
   "cell_type": "code",
   "execution_count": 63,
   "id": "aee508be-1979-4b6f-80f5-182c658451fd",
   "metadata": {},
   "outputs": [
    {
     "name": "stdout",
     "output_type": "stream",
     "text": [
      "(1000, 19) (1000,)\n"
     ]
    }
   ],
   "source": [
    "if y.dtype == 'O':\n",
    "    le = LabelEncoder()\n",
    "    y = le.fit_transform(y)\n",
    "print(X.shape, y.shape)"
   ]
  },
  {
   "cell_type": "markdown",
   "id": "c7d4acd6-ae64-4391-ac7f-411e00634982",
   "metadata": {},
   "source": [
    "#### Apply SMOTE"
   ]
  },
  {
   "cell_type": "code",
   "execution_count": 64,
   "id": "5f413d59-e6dd-475a-b004-a9147b09fddd",
   "metadata": {},
   "outputs": [],
   "source": [
    "smote = SMOTE(random_state=42)\n",
    "X_resampled, y_resampled = smote.fit_resample(X, y)"
   ]
  },
  {
   "cell_type": "markdown",
   "id": "46ad5893-5692-4e4f-86cf-a86057b1909d",
   "metadata": {},
   "source": [
    "#### Combine resampled data"
   ]
  },
  {
   "cell_type": "code",
   "execution_count": 65,
   "id": "9c174af8-66f0-4a1b-a8c0-13ce91139255",
   "metadata": {},
   "outputs": [
    {
     "data": {
      "text/html": [
       "<div>\n",
       "<style scoped>\n",
       "    .dataframe tbody tr th:only-of-type {\n",
       "        vertical-align: middle;\n",
       "    }\n",
       "\n",
       "    .dataframe tbody tr th {\n",
       "        vertical-align: top;\n",
       "    }\n",
       "\n",
       "    .dataframe thead th {\n",
       "        text-align: right;\n",
       "    }\n",
       "</style>\n",
       "<table border=\"1\" class=\"dataframe\">\n",
       "  <thead>\n",
       "    <tr style=\"text-align: right;\">\n",
       "      <th></th>\n",
       "      <th>reading score</th>\n",
       "      <th>writing score</th>\n",
       "      <th>gender_female</th>\n",
       "      <th>gender_male</th>\n",
       "      <th>race/ethnicity_group A</th>\n",
       "      <th>race/ethnicity_group B</th>\n",
       "      <th>race/ethnicity_group C</th>\n",
       "      <th>race/ethnicity_group D</th>\n",
       "      <th>race/ethnicity_group E</th>\n",
       "      <th>parental level of education_associate's degree</th>\n",
       "      <th>parental level of education_bachelor's degree</th>\n",
       "      <th>parental level of education_high school</th>\n",
       "      <th>parental level of education_master's degree</th>\n",
       "      <th>parental level of education_some college</th>\n",
       "      <th>parental level of education_some high school</th>\n",
       "      <th>lunch_free/reduced</th>\n",
       "      <th>lunch_standard</th>\n",
       "      <th>test preparation course_completed</th>\n",
       "      <th>test preparation course_none</th>\n",
       "      <th>math score</th>\n",
       "    </tr>\n",
       "  </thead>\n",
       "  <tbody>\n",
       "    <tr>\n",
       "      <th>0</th>\n",
       "      <td>0.193999</td>\n",
       "      <td>0.391492</td>\n",
       "      <td>True</td>\n",
       "      <td>False</td>\n",
       "      <td>False</td>\n",
       "      <td>True</td>\n",
       "      <td>False</td>\n",
       "      <td>False</td>\n",
       "      <td>False</td>\n",
       "      <td>False</td>\n",
       "      <td>True</td>\n",
       "      <td>False</td>\n",
       "      <td>False</td>\n",
       "      <td>False</td>\n",
       "      <td>False</td>\n",
       "      <td>False</td>\n",
       "      <td>True</td>\n",
       "      <td>False</td>\n",
       "      <td>True</td>\n",
       "      <td>0</td>\n",
       "    </tr>\n",
       "    <tr>\n",
       "      <th>1</th>\n",
       "      <td>1.427476</td>\n",
       "      <td>1.313269</td>\n",
       "      <td>True</td>\n",
       "      <td>False</td>\n",
       "      <td>False</td>\n",
       "      <td>False</td>\n",
       "      <td>True</td>\n",
       "      <td>False</td>\n",
       "      <td>False</td>\n",
       "      <td>False</td>\n",
       "      <td>False</td>\n",
       "      <td>False</td>\n",
       "      <td>False</td>\n",
       "      <td>True</td>\n",
       "      <td>False</td>\n",
       "      <td>False</td>\n",
       "      <td>True</td>\n",
       "      <td>True</td>\n",
       "      <td>False</td>\n",
       "      <td>0</td>\n",
       "    </tr>\n",
       "    <tr>\n",
       "      <th>2</th>\n",
       "      <td>1.770109</td>\n",
       "      <td>1.642475</td>\n",
       "      <td>True</td>\n",
       "      <td>False</td>\n",
       "      <td>False</td>\n",
       "      <td>True</td>\n",
       "      <td>False</td>\n",
       "      <td>False</td>\n",
       "      <td>False</td>\n",
       "      <td>False</td>\n",
       "      <td>False</td>\n",
       "      <td>False</td>\n",
       "      <td>True</td>\n",
       "      <td>False</td>\n",
       "      <td>False</td>\n",
       "      <td>False</td>\n",
       "      <td>True</td>\n",
       "      <td>False</td>\n",
       "      <td>True</td>\n",
       "      <td>1</td>\n",
       "    </tr>\n",
       "    <tr>\n",
       "      <th>3</th>\n",
       "      <td>-0.833899</td>\n",
       "      <td>-1.583744</td>\n",
       "      <td>False</td>\n",
       "      <td>True</td>\n",
       "      <td>True</td>\n",
       "      <td>False</td>\n",
       "      <td>False</td>\n",
       "      <td>False</td>\n",
       "      <td>False</td>\n",
       "      <td>True</td>\n",
       "      <td>False</td>\n",
       "      <td>False</td>\n",
       "      <td>False</td>\n",
       "      <td>False</td>\n",
       "      <td>False</td>\n",
       "      <td>True</td>\n",
       "      <td>False</td>\n",
       "      <td>False</td>\n",
       "      <td>True</td>\n",
       "      <td>0</td>\n",
       "    </tr>\n",
       "    <tr>\n",
       "      <th>4</th>\n",
       "      <td>0.605158</td>\n",
       "      <td>0.457333</td>\n",
       "      <td>False</td>\n",
       "      <td>True</td>\n",
       "      <td>False</td>\n",
       "      <td>False</td>\n",
       "      <td>True</td>\n",
       "      <td>False</td>\n",
       "      <td>False</td>\n",
       "      <td>False</td>\n",
       "      <td>False</td>\n",
       "      <td>False</td>\n",
       "      <td>False</td>\n",
       "      <td>True</td>\n",
       "      <td>False</td>\n",
       "      <td>False</td>\n",
       "      <td>True</td>\n",
       "      <td>False</td>\n",
       "      <td>True</td>\n",
       "      <td>1</td>\n",
       "    </tr>\n",
       "  </tbody>\n",
       "</table>\n",
       "</div>"
      ],
      "text/plain": [
       "   reading score  writing score  gender_female  gender_male  \\\n",
       "0       0.193999       0.391492           True        False   \n",
       "1       1.427476       1.313269           True        False   \n",
       "2       1.770109       1.642475           True        False   \n",
       "3      -0.833899      -1.583744          False         True   \n",
       "4       0.605158       0.457333          False         True   \n",
       "\n",
       "   race/ethnicity_group A  race/ethnicity_group B  race/ethnicity_group C  \\\n",
       "0                   False                    True                   False   \n",
       "1                   False                   False                    True   \n",
       "2                   False                    True                   False   \n",
       "3                    True                   False                   False   \n",
       "4                   False                   False                    True   \n",
       "\n",
       "   race/ethnicity_group D  race/ethnicity_group E  \\\n",
       "0                   False                   False   \n",
       "1                   False                   False   \n",
       "2                   False                   False   \n",
       "3                   False                   False   \n",
       "4                   False                   False   \n",
       "\n",
       "   parental level of education_associate's degree  \\\n",
       "0                                           False   \n",
       "1                                           False   \n",
       "2                                           False   \n",
       "3                                            True   \n",
       "4                                           False   \n",
       "\n",
       "   parental level of education_bachelor's degree  \\\n",
       "0                                           True   \n",
       "1                                          False   \n",
       "2                                          False   \n",
       "3                                          False   \n",
       "4                                          False   \n",
       "\n",
       "   parental level of education_high school  \\\n",
       "0                                    False   \n",
       "1                                    False   \n",
       "2                                    False   \n",
       "3                                    False   \n",
       "4                                    False   \n",
       "\n",
       "   parental level of education_master's degree  \\\n",
       "0                                        False   \n",
       "1                                        False   \n",
       "2                                         True   \n",
       "3                                        False   \n",
       "4                                        False   \n",
       "\n",
       "   parental level of education_some college  \\\n",
       "0                                     False   \n",
       "1                                      True   \n",
       "2                                     False   \n",
       "3                                     False   \n",
       "4                                      True   \n",
       "\n",
       "   parental level of education_some high school  lunch_free/reduced  \\\n",
       "0                                         False               False   \n",
       "1                                         False               False   \n",
       "2                                         False               False   \n",
       "3                                         False                True   \n",
       "4                                         False               False   \n",
       "\n",
       "   lunch_standard  test preparation course_completed  \\\n",
       "0            True                              False   \n",
       "1            True                               True   \n",
       "2            True                              False   \n",
       "3           False                              False   \n",
       "4            True                              False   \n",
       "\n",
       "   test preparation course_none  math score  \n",
       "0                          True           0  \n",
       "1                         False           0  \n",
       "2                          True           1  \n",
       "3                          True           0  \n",
       "4                          True           1  "
      ]
     },
     "execution_count": 65,
     "metadata": {},
     "output_type": "execute_result"
    }
   ],
   "source": [
    "data_resampled = pd.concat([pd.DataFrame(X_resampled, columns=X.columns), pd.DataFrame(y_resampled, columns=['math score'])], axis=1)\n",
    "data_resampled.head()"
   ]
  },
  {
   "cell_type": "markdown",
   "id": "ecdbbf6e-78d4-496b-ba0b-22cc8d9f0b16",
   "metadata": {},
   "source": [
    "#### data_resampled.math_score.value_counts(True)`\n",
    "\n",
    "This line of code is used to calculate the frequency distribution of unique values in the `math_score` column of the `data_resampled` DataFrame. The method `.value_counts(True)` is used to:\n",
    "\n",
    "1. **Count the occurrences** of each unique value in the `math_score` column.\n",
    "2. **Normalize the counts**, returning the relative frequencies (proportions) instead of just the counts.\n",
    "\n",
    "The result is a series where the index represents the unique values in the `math_score` column, and the values represent the proportion (percentage) of each unique value within the column.\n",
    "\n",
    "For example, if the `math_score` column contains values like `[90, 85, 90, 100, 85]`, the output would show the relative frequency of each score.\n"
   ]
  },
  {
   "cell_type": "code",
   "execution_count": 72,
   "id": "6d99f2e8-2ee5-40c2-9b36-45d8872de91b",
   "metadata": {},
   "outputs": [
    {
     "data": {
      "text/plain": [
       "gender_male\n",
       "True     0.518382\n",
       "False    0.481618\n",
       "Name: proportion, dtype: float64"
      ]
     },
     "execution_count": 72,
     "metadata": {},
     "output_type": "execute_result"
    }
   ],
   "source": [
    "data_resampled.gender_male.value_counts(True)\n"
   ]
  },
  {
   "cell_type": "markdown",
   "id": "c6fc1438-75e0-457e-b230-2b4c3f61f289",
   "metadata": {},
   "source": [
    "### Undersampling"
   ]
  },
  {
   "cell_type": "markdown",
   "id": "a53348a1-b48d-4648-8655-db4f5d46b6b3",
   "metadata": {},
   "source": [
    "**Undersampling** is a technique used to address class imbalance in datasets by reducing the size of the majority class to balance it with the minority class. It involves randomly removing samples from the majority class.\n",
    "\n",
    "**Key Points**:\n",
    "- Purpose: To prevent models from being biased toward the majority class, which can improve performance on the minority class.\n",
    "\n",
    "- Process: Randomly remove instances from the majority class until both classes have a similar number of samples.\n",
    "\n",
    "**Pros**: Helps reduce overfitting and simplifies the model.\n",
    "\n",
    "**Cons**: Risk of losing important information and potentially lowering model performance.\n",
    "\n",
    "**Use Cases**: Fraud detection, anomaly detection, medical diagnostics."
   ]
  },
  {
   "cell_type": "markdown",
   "id": "97003eba-8c0e-403d-b04c-01179e65c970",
   "metadata": {},
   "source": [
    "#### Import Libraries"
   ]
  },
  {
   "cell_type": "code",
   "execution_count": 74,
   "id": "1daf843c-48f2-4d22-87cc-17b1dddfa23b",
   "metadata": {},
   "outputs": [],
   "source": [
    "import pandas as pd\n",
    "import numpy as np\n",
    "from sklearn.preprocessing import StandardScaler, LabelEncoder\n",
    "from sklearn.decomposition import PCA\n",
    "from imblearn.over_sampling import SMOTE\n",
    "import matplotlib.pyplot as plt"
   ]
  },
  {
   "cell_type": "markdown",
   "id": "79a822ff-f84b-4bdf-b68d-77785cee2cfe",
   "metadata": {},
   "source": [
    "#### Load the dataset"
   ]
  },
  {
   "cell_type": "code",
   "execution_count": 76,
   "id": "d709bf2d-303a-49bd-84ce-5b3658d55d72",
   "metadata": {},
   "outputs": [],
   "source": [
    "data = pd.read_csv('st.csv')"
   ]
  },
  {
   "cell_type": "markdown",
   "id": "ecd3ea85-8b89-4070-aad8-c67f63b82bdd",
   "metadata": {},
   "source": [
    "#### Handle missing values"
   ]
  },
  {
   "cell_type": "code",
   "execution_count": 77,
   "id": "a89e1a1b-ee8a-4a25-b6a9-4248eea98a76",
   "metadata": {},
   "outputs": [],
   "source": [
    "data.fillna(data.mean(numeric_only=True), inplace=True)"
   ]
  },
  {
   "cell_type": "markdown",
   "id": "f353c149-c11e-4e20-add0-53538c522584",
   "metadata": {},
   "source": [
    "#### Separate categorical and numeric columns"
   ]
  },
  {
   "cell_type": "code",
   "execution_count": 79,
   "id": "c54f6833-7bb5-4fce-bae6-e4c9b564d343",
   "metadata": {},
   "outputs": [],
   "source": [
    "cat_features = [feature for feature in data.columns if data[feature].dtype == 'O']\n",
    "numeric_features = [feature for feature in data.columns if data[feature].dtype != 'O']"
   ]
  },
  {
   "cell_type": "markdown",
   "id": "830b8c29-4b3e-4585-87ba-b02dce61496c",
   "metadata": {},
   "source": [
    "#### Convert categorical columns using pd.get_dummies"
   ]
  },
  {
   "cell_type": "code",
   "execution_count": 80,
   "id": "cddaa20e-3cc4-4f49-8b8b-d1c61c2ee5ac",
   "metadata": {},
   "outputs": [],
   "source": [
    "data = pd.get_dummies(data, columns=cat_features)"
   ]
  },
  {
   "cell_type": "markdown",
   "id": "3f321d08-2308-4cab-8ab4-c77a50a22dff",
   "metadata": {},
   "source": [
    "#### Standardize the numeric columns"
   ]
  },
  {
   "cell_type": "code",
   "execution_count": 81,
   "id": "569fa7e4-48f2-4700-a454-187619f90e47",
   "metadata": {},
   "outputs": [],
   "source": [
    "scaler = StandardScaler()\n",
    "data[numeric_features] = scaler.fit_transform(data[numeric_features].values)"
   ]
  },
  {
   "cell_type": "markdown",
   "id": "46ca6aa0-681e-49d6-a94c-eedbf73579e5",
   "metadata": {},
   "source": [
    "#### Convert the target variable to categorical"
   ]
  },
  {
   "cell_type": "code",
   "execution_count": 82,
   "id": "c01652e2-2e91-454d-9b2a-513378b80ba3",
   "metadata": {},
   "outputs": [],
   "source": [
    "if data['gender_male'].dtype != 'int64' and data['gender_male'].dtype != 'bool':\n",
    "    data['gender_male'] = (data['gender_male'] > 0.5).astype(int)"
   ]
  },
  {
   "cell_type": "markdown",
   "id": "3d8f4485-5e20-4948-a548-4cdb66ddfa83",
   "metadata": {},
   "source": [
    "#### Separate features and target"
   ]
  },
  {
   "cell_type": "code",
   "execution_count": 83,
   "id": "3ee6ac5c-a469-4928-8a17-342db75dba79",
   "metadata": {},
   "outputs": [],
   "source": [
    "X = data.drop(columns=['gender_male']) \n",
    "y = data['gender_male'] "
   ]
  },
  {
   "cell_type": "markdown",
   "id": "fd18af3f-6bba-4828-b299-5cd238d761ad",
   "metadata": {},
   "source": [
    "  #### Encode the target variable if it's not already encoded"
   ]
  },
  {
   "cell_type": "code",
   "execution_count": 84,
   "id": "9db5e4c0-6b29-4570-9bf0-209ddab25e7f",
   "metadata": {},
   "outputs": [
    {
     "name": "stdout",
     "output_type": "stream",
     "text": [
      "(1000, 19) (1000,)\n"
     ]
    }
   ],
   "source": [
    "if y.dtype == 'O':\n",
    "    le = LabelEncoder()\n",
    "    y = le.fit_transform(y)\n",
    "\n",
    "print(X.shape, y.shape)"
   ]
  },
  {
   "cell_type": "markdown",
   "id": "4af3d793-cf01-4d67-b5e0-3e086c189f6e",
   "metadata": {},
   "source": [
    "#### Apply SMOTE Undersampling"
   ]
  },
  {
   "cell_type": "code",
   "execution_count": 85,
   "id": "ab6693dd-e50e-4b6c-8677-7afa8d23b595",
   "metadata": {},
   "outputs": [],
   "source": [
    "from imblearn.under_sampling import RandomUnderSampler\n",
    "rus = RandomUnderSampler()\n",
    "X_resampled, y_resampled = rus.fit_resample(X, y)"
   ]
  },
  {
   "cell_type": "markdown",
   "id": "6a7b7c8b-6ad4-49c0-b631-7eaf9052cb7a",
   "metadata": {},
   "source": [
    "#### Combine resampled data"
   ]
  },
  {
   "cell_type": "code",
   "execution_count": 86,
   "id": "bb5bae0e-0add-48ef-9fa9-a27e389f4e5a",
   "metadata": {},
   "outputs": [
    {
     "data": {
      "text/html": [
       "<div>\n",
       "<style scoped>\n",
       "    .dataframe tbody tr th:only-of-type {\n",
       "        vertical-align: middle;\n",
       "    }\n",
       "\n",
       "    .dataframe tbody tr th {\n",
       "        vertical-align: top;\n",
       "    }\n",
       "\n",
       "    .dataframe thead th {\n",
       "        text-align: right;\n",
       "    }\n",
       "</style>\n",
       "<table border=\"1\" class=\"dataframe\">\n",
       "  <thead>\n",
       "    <tr style=\"text-align: right;\">\n",
       "      <th></th>\n",
       "      <th>math score</th>\n",
       "      <th>reading score</th>\n",
       "      <th>writing score</th>\n",
       "      <th>gender_female</th>\n",
       "      <th>race/ethnicity_group A</th>\n",
       "      <th>race/ethnicity_group B</th>\n",
       "      <th>race/ethnicity_group C</th>\n",
       "      <th>race/ethnicity_group D</th>\n",
       "      <th>race/ethnicity_group E</th>\n",
       "      <th>parental level of education_associate's degree</th>\n",
       "      <th>parental level of education_bachelor's degree</th>\n",
       "      <th>parental level of education_high school</th>\n",
       "      <th>parental level of education_master's degree</th>\n",
       "      <th>parental level of education_some college</th>\n",
       "      <th>parental level of education_some high school</th>\n",
       "      <th>lunch_free/reduced</th>\n",
       "      <th>lunch_standard</th>\n",
       "      <th>test preparation course_completed</th>\n",
       "      <th>test preparation course_none</th>\n",
       "      <th>alive</th>\n",
       "    </tr>\n",
       "  </thead>\n",
       "  <tbody>\n",
       "    <tr>\n",
       "      <th>122</th>\n",
       "      <td>1.445746</td>\n",
       "      <td>1.633056</td>\n",
       "      <td>1.642475</td>\n",
       "      <td>True</td>\n",
       "      <td>False</td>\n",
       "      <td>False</td>\n",
       "      <td>True</td>\n",
       "      <td>False</td>\n",
       "      <td>False</td>\n",
       "      <td>False</td>\n",
       "      <td>False</td>\n",
       "      <td>False</td>\n",
       "      <td>False</td>\n",
       "      <td>True</td>\n",
       "      <td>False</td>\n",
       "      <td>False</td>\n",
       "      <td>True</td>\n",
       "      <td>True</td>\n",
       "      <td>False</td>\n",
       "      <td>NaN</td>\n",
       "    </tr>\n",
       "    <tr>\n",
       "      <th>152</th>\n",
       "      <td>-0.467751</td>\n",
       "      <td>0.056946</td>\n",
       "      <td>-0.135238</td>\n",
       "      <td>True</td>\n",
       "      <td>False</td>\n",
       "      <td>True</td>\n",
       "      <td>False</td>\n",
       "      <td>False</td>\n",
       "      <td>False</td>\n",
       "      <td>True</td>\n",
       "      <td>False</td>\n",
       "      <td>False</td>\n",
       "      <td>False</td>\n",
       "      <td>False</td>\n",
       "      <td>False</td>\n",
       "      <td>False</td>\n",
       "      <td>True</td>\n",
       "      <td>True</td>\n",
       "      <td>False</td>\n",
       "      <td>NaN</td>\n",
       "    </tr>\n",
       "    <tr>\n",
       "      <th>636</th>\n",
       "      <td>0.060110</td>\n",
       "      <td>0.742211</td>\n",
       "      <td>0.852380</td>\n",
       "      <td>True</td>\n",
       "      <td>False</td>\n",
       "      <td>True</td>\n",
       "      <td>False</td>\n",
       "      <td>False</td>\n",
       "      <td>False</td>\n",
       "      <td>False</td>\n",
       "      <td>False</td>\n",
       "      <td>True</td>\n",
       "      <td>False</td>\n",
       "      <td>False</td>\n",
       "      <td>False</td>\n",
       "      <td>True</td>\n",
       "      <td>False</td>\n",
       "      <td>True</td>\n",
       "      <td>False</td>\n",
       "      <td>NaN</td>\n",
       "    </tr>\n",
       "    <tr>\n",
       "      <th>37</th>\n",
       "      <td>-1.061595</td>\n",
       "      <td>-0.354214</td>\n",
       "      <td>-0.596126</td>\n",
       "      <td>True</td>\n",
       "      <td>False</td>\n",
       "      <td>False</td>\n",
       "      <td>False</td>\n",
       "      <td>True</td>\n",
       "      <td>False</td>\n",
       "      <td>False</td>\n",
       "      <td>False</td>\n",
       "      <td>False</td>\n",
       "      <td>False</td>\n",
       "      <td>False</td>\n",
       "      <td>True</td>\n",
       "      <td>True</td>\n",
       "      <td>False</td>\n",
       "      <td>False</td>\n",
       "      <td>True</td>\n",
       "      <td>NaN</td>\n",
       "    </tr>\n",
       "    <tr>\n",
       "      <th>408</th>\n",
       "      <td>-0.929630</td>\n",
       "      <td>-0.833899</td>\n",
       "      <td>-0.793650</td>\n",
       "      <td>True</td>\n",
       "      <td>False</td>\n",
       "      <td>False</td>\n",
       "      <td>False</td>\n",
       "      <td>True</td>\n",
       "      <td>False</td>\n",
       "      <td>False</td>\n",
       "      <td>False</td>\n",
       "      <td>True</td>\n",
       "      <td>False</td>\n",
       "      <td>False</td>\n",
       "      <td>False</td>\n",
       "      <td>True</td>\n",
       "      <td>False</td>\n",
       "      <td>True</td>\n",
       "      <td>False</td>\n",
       "      <td>NaN</td>\n",
       "    </tr>\n",
       "  </tbody>\n",
       "</table>\n",
       "</div>"
      ],
      "text/plain": [
       "     math score  reading score  writing score  gender_female  \\\n",
       "122    1.445746       1.633056       1.642475           True   \n",
       "152   -0.467751       0.056946      -0.135238           True   \n",
       "636    0.060110       0.742211       0.852380           True   \n",
       "37    -1.061595      -0.354214      -0.596126           True   \n",
       "408   -0.929630      -0.833899      -0.793650           True   \n",
       "\n",
       "     race/ethnicity_group A  race/ethnicity_group B  race/ethnicity_group C  \\\n",
       "122                   False                   False                    True   \n",
       "152                   False                    True                   False   \n",
       "636                   False                    True                   False   \n",
       "37                    False                   False                   False   \n",
       "408                   False                   False                   False   \n",
       "\n",
       "     race/ethnicity_group D  race/ethnicity_group E  \\\n",
       "122                   False                   False   \n",
       "152                   False                   False   \n",
       "636                   False                   False   \n",
       "37                     True                   False   \n",
       "408                    True                   False   \n",
       "\n",
       "     parental level of education_associate's degree  \\\n",
       "122                                           False   \n",
       "152                                            True   \n",
       "636                                           False   \n",
       "37                                            False   \n",
       "408                                           False   \n",
       "\n",
       "     parental level of education_bachelor's degree  \\\n",
       "122                                          False   \n",
       "152                                          False   \n",
       "636                                          False   \n",
       "37                                           False   \n",
       "408                                          False   \n",
       "\n",
       "     parental level of education_high school  \\\n",
       "122                                    False   \n",
       "152                                    False   \n",
       "636                                     True   \n",
       "37                                     False   \n",
       "408                                     True   \n",
       "\n",
       "     parental level of education_master's degree  \\\n",
       "122                                        False   \n",
       "152                                        False   \n",
       "636                                        False   \n",
       "37                                         False   \n",
       "408                                        False   \n",
       "\n",
       "     parental level of education_some college  \\\n",
       "122                                      True   \n",
       "152                                     False   \n",
       "636                                     False   \n",
       "37                                      False   \n",
       "408                                     False   \n",
       "\n",
       "     parental level of education_some high school  lunch_free/reduced  \\\n",
       "122                                         False               False   \n",
       "152                                         False               False   \n",
       "636                                         False                True   \n",
       "37                                           True                True   \n",
       "408                                         False                True   \n",
       "\n",
       "     lunch_standard  test preparation course_completed  \\\n",
       "122            True                               True   \n",
       "152            True                               True   \n",
       "636           False                               True   \n",
       "37            False                              False   \n",
       "408           False                               True   \n",
       "\n",
       "     test preparation course_none alive  \n",
       "122                         False   NaN  \n",
       "152                         False   NaN  \n",
       "636                         False   NaN  \n",
       "37                           True   NaN  \n",
       "408                         False   NaN  "
      ]
     },
     "execution_count": 86,
     "metadata": {},
     "output_type": "execute_result"
    }
   ],
   "source": [
    "data_resampled = pd.concat([pd.DataFrame(X_resampled, columns=X.columns), pd.DataFrame(y_resampled, columns=['alive'])], axis=1)\n",
    "data_resampled.head()"
   ]
  },
  {
   "cell_type": "markdown",
   "id": "aba4e4c0-c699-4279-8496-2671d12e1fb4",
   "metadata": {},
   "source": [
    "#### data_resampled.gender_female.value_counts()\n",
    "`data_resampled.gender_female.value_counts()` is used to count the number of occurrences of each unique value in the `gender_female` column of the `data_resampled` DataFrame. Specifically:\n",
    "\n",
    "- `data_resampled` refers to the DataFrame that contains the dataset.\n",
    "- `gender_female` is the column name in the DataFrame, which likely contains binary values (such as `0` or `1`, `True` or `False`, etc.) indicating the gender classification.\n",
    "- `value_counts()` is a pandas function that returns a series containing counts of unique values in the specified column. The result will show the number of instances where the `gender_female` column contains each unique value.\n",
    "\n",
    "This code is useful for quickly summarizing the distribution of values in the `gender_female` column, providing insights into how many entries are classified as female (`1` or `True`) and how many are not.\n"
   ]
  },
  {
   "cell_type": "code",
   "execution_count": 96,
   "id": "679f498f-5c35-41bd-970c-51a7c2825711",
   "metadata": {},
   "outputs": [
    {
     "data": {
      "text/plain": [
       "gender_female\n",
       "True     482\n",
       "False    482\n",
       "Name: count, dtype: int64"
      ]
     },
     "execution_count": 96,
     "metadata": {},
     "output_type": "execute_result"
    }
   ],
   "source": [
    "data_resampled.gender_female.value_counts()"
   ]
  },
  {
   "cell_type": "markdown",
   "id": "75186eef-2bc5-450a-bb20-cd3e14981555",
   "metadata": {},
   "source": [
    "#### data_resampled.shape\n",
    "\n",
    "The `data_resampled.shape` code returns the dimensions of the `data_resampled` DataFrame or array. It provides the number of rows and columns (or dimensions) in the dataset.\n",
    "\n",
    "- The first value represents the number of rows.\n",
    "- The second value represents the number of columns.\n",
    "\n",
    "For example, if `data_resampled.shape` outputs `(100, 5)`, it means the dataset has 100 rows and 5 columns.\n"
   ]
  },
  {
   "cell_type": "code",
   "execution_count": 97,
   "id": "fc7d6edc-4715-423d-9153-abd087ac6335",
   "metadata": {},
   "outputs": [
    {
     "data": {
      "text/plain": [
       "(964, 20)"
      ]
     },
     "execution_count": 97,
     "metadata": {},
     "output_type": "execute_result"
    }
   ],
   "source": [
    "data_resampled.shape"
   ]
  },
  {
   "cell_type": "markdown",
   "id": "eb624f18-c6f5-4896-a646-190bc2bcd28f",
   "metadata": {},
   "source": [
    "### Target Encoder"
   ]
  },
  {
   "cell_type": "markdown",
   "id": "d64db501-09b1-4f59-8b7c-cb7d28142b15",
   "metadata": {},
   "source": [
    "\n",
    "### Import Required Libraries\n",
    "   - `pandas` for data manipulation.\n",
    "   - `train_test_split` from `sklearn.model_selection` to split the dataset into training and test sets.\n",
    "   - `OneHotEncoder` from `sklearn.preprocessing` for encoding categorical features.\n",
    "   - `ColumnTransformer` and `Pipeline` from `sklearn.compose` and `sklearn.pipeline` to build a preprocessing pipeline."
   ]
  },
  {
   "cell_type": "code",
   "execution_count": 114,
   "id": "50e921ad-d97b-43ce-b719-14c122c3d40f",
   "metadata": {},
   "outputs": [],
   "source": [
    "import pandas as pd\n",
    "from sklearn.model_selection import train_test_split\n",
    "from sklearn.preprocessing import OneHotEncoder\n",
    "from sklearn.compose import ColumnTransformer\n",
    "from sklearn.pipeline import Pipeline"
   ]
  },
  {
   "cell_type": "markdown",
   "id": "c92c7738-1a66-46ff-9226-2ec0a5b64b36",
   "metadata": {},
   "source": [
    "#### Load dataset"
   ]
  },
  {
   "cell_type": "code",
   "execution_count": 115,
   "id": "f5d369de-6066-4bb0-ab34-916a50eeee53",
   "metadata": {},
   "outputs": [],
   "source": [
    "df = pd.read_csv(\"st.csv\")"
   ]
  },
  {
   "cell_type": "markdown",
   "id": "c6cdf89e-3018-4eef-9004-12a1d13c9325",
   "metadata": {},
   "source": [
    "#### Choose categorical features to encode (must be non-numeric for OneHotEncoder)"
   ]
  },
  {
   "cell_type": "code",
   "execution_count": 116,
   "id": "9fead803-b1ac-4340-87e0-1e7a06186aa5",
   "metadata": {},
   "outputs": [],
   "source": [
    "categorical_cols = ['gender']"
   ]
  },
  {
   "cell_type": "code",
   "execution_count": null,
   "id": "ba7a3ab1-cc3f-410c-85c3-36b1c6b639fa",
   "metadata": {},
   "outputs": [],
   "source": [
    "target_col = 'gender'"
   ]
  },
  {
   "cell_type": "markdown",
   "id": "00356c30-1157-4811-9932-596df5a2f6f0",
   "metadata": {},
   "source": [
    "#### Convert 'gender' to binary if needed (example: female=1, male=0)"
   ]
  },
  {
   "cell_type": "code",
   "execution_count": 117,
   "id": "d09c1637-feba-42a7-9aeb-b43fec318651",
   "metadata": {},
   "outputs": [],
   "source": [
    "df[target_col] = df[target_col].map({'female': 1, 'male': 0})"
   ]
  },
  {
   "cell_type": "markdown",
   "id": "3d380d0f-1f53-4424-bca7-81087c4c61e3",
   "metadata": {},
   "source": [
    "#### Initialize OneHotEncoder"
   ]
  },
  {
   "cell_type": "code",
   "execution_count": 118,
   "id": "57675ad2-f810-432b-9753-9d80d2c15a41",
   "metadata": {},
   "outputs": [],
   "source": [
    "encoder = OneHotEncoder(sparse_output=False, drop='first')"
   ]
  },
  {
   "cell_type": "markdown",
   "id": "b0c74cc6-631c-4bbb-a76a-d1f132a8419a",
   "metadata": {},
   "source": [
    "#### Split data"
   ]
  },
  {
   "cell_type": "code",
   "execution_count": 119,
   "id": "f1e2c0e3-8ff4-4e1a-a71f-3d68ce9b59af",
   "metadata": {},
   "outputs": [],
   "source": [
    "X_train, X_test, y_train, y_test = train_test_split(df[categorical_cols], df[target_col], test_size=0.3, random_state=42)"
   ]
  },
  {
   "cell_type": "markdown",
   "id": "b2d72992-f6e6-4ae2-a054-ca2c41a0935e",
   "metadata": {},
   "source": [
    "#### Create transformer"
   ]
  },
  {
   "cell_type": "code",
   "execution_count": 120,
   "id": "9187bbd7-f8cc-4556-8991-31b0df0a5d50",
   "metadata": {},
   "outputs": [],
   "source": [
    "preprocessor = ColumnTransformer(\n",
    "    transformers=[\n",
    "        ('cat', encoder, categorical_cols)\n",
    "    ])"
   ]
  },
  {
   "cell_type": "markdown",
   "id": "c796ed43-0e36-4825-b543-e1f005de09c4",
   "metadata": {},
   "source": [
    "#### Create pipeline"
   ]
  },
  {
   "cell_type": "code",
   "execution_count": 121,
   "id": "d54bd41f-3209-4692-9537-b41ee2c94c80",
   "metadata": {},
   "outputs": [],
   "source": [
    "pipeline = Pipeline(steps=[('preprocessor', preprocessor)])"
   ]
  },
  {
   "cell_type": "markdown",
   "id": "e8e0a50b-3d31-4901-a49e-38b00dfa9bb5",
   "metadata": {},
   "source": [
    "#### Fit and transform"
   ]
  },
  {
   "cell_type": "code",
   "execution_count": 122,
   "id": "96d171ee-609d-4a53-835d-f38a8e8a3fe5",
   "metadata": {},
   "outputs": [],
   "source": [
    "pipeline.fit(X_train)\n",
    "encoded_train = pipeline.transform(X_train)\n",
    "encoded_test = pipeline.transform(X_test)"
   ]
  },
  {
   "cell_type": "markdown",
   "id": "a2a45815-bac8-4dcc-a997-fea706df8cdf",
   "metadata": {},
   "source": [
    "#### Convert to DataFrame"
   ]
  },
  {
   "cell_type": "code",
   "execution_count": 123,
   "id": "7d2d9e15-455c-4bab-b632-7b7fa2e421d0",
   "metadata": {},
   "outputs": [],
   "source": [
    "encoded_train_df = pd.DataFrame(encoded_train, columns=pipeline.named_steps['preprocessor'].get_feature_names_out())\n",
    "encoded_test_df = pd.DataFrame(encoded_test, columns=pipeline.named_steps['preprocessor'].get_feature_names_out())"
   ]
  },
  {
   "cell_type": "markdown",
   "id": "754714f7-8f15-4d1c-a142-afbf4a1b38c8",
   "metadata": {},
   "source": [
    "#### Display result"
   ]
  },
  {
   "cell_type": "code",
   "execution_count": 124,
   "id": "ac32b653-de73-41f8-83f2-3c4dcd9ccc2b",
   "metadata": {},
   "outputs": [
    {
     "name": "stdout",
     "output_type": "stream",
     "text": [
      "   cat__gender_1\n",
      "0            0.0\n",
      "1            1.0\n",
      "2            0.0\n",
      "3            1.0\n",
      "4            1.0\n"
     ]
    }
   ],
   "source": [
    "print(encoded_train_df.head())"
   ]
  },
  {
   "cell_type": "markdown",
   "id": "79458e1d-3b8f-4b77-a050-9a4e6b62f5ad",
   "metadata": {},
   "source": [
    "# 8: Splitting Data"
   ]
  },
  {
   "cell_type": "markdown",
   "id": "9cbdf26b-07a8-4f95-bc9c-5e64ffc05ab1",
   "metadata": {},
   "source": [
    "#### Data Splitting Explanation\n",
    "\n",
    "- The dataset is loaded from a CSV file named `st.csv` using `pandas.read_csv()`.\n",
    "- The **feature variables** (`X`) are extracted by dropping the `'gender'` column from the dataset.\n",
    "- The **target variable** (`y`) is set to the `'gender'` column, which we aim to predict.\n",
    "- The dataset is then split into **training** and **testing** sets using `train_test_split()` from `sklearn.model_selection`.\n",
    "  - `test_size=0.3` indicates that 30% of the data is reserved for testing.\n",
    "  - `random_state=42` ensures reproducibility by fixing the randomness.\n",
    "\n",
    "As a result, we get:\n",
    "- `X_train` and `y_train` for training the model\n",
    "- `X_test` and `y_test` for evaluating the model's performance\n"
   ]
  },
  {
   "cell_type": "code",
   "execution_count": 128,
   "id": "1a52efad-cddd-4d2c-92c1-99ab59575650",
   "metadata": {},
   "outputs": [],
   "source": [
    "from sklearn.model_selection import train_test_split\n",
    "data = pd.read_csv('st.csv')\n",
    "\n",
    "X = data.drop('gender', axis=1)\n",
    "y = data['gender']\n",
    "\n",
    "X_train, X_test, y_train, y_test = train_test_split(X, y, test_size=0.3, random_state=42)\n"
   ]
  },
  {
   "cell_type": "markdown",
   "id": "5932359f-3dd3-4198-bd86-f66cf08d003e",
   "metadata": {},
   "source": [
    "#### X_train.shape, X_test.shape, y_train.shape, y_test.shape\n",
    "\n",
    "This line of code displays the shapes (i.e., dimensions) of the training and testing datasets after splitting the original dataset using `train_test_split`.\n",
    "\n",
    "- `X_train.shape`: Shows the number of rows and features in the training input data.\n",
    "- `X_test.shape`: Shows the number of rows and features in the testing input data.\n",
    "- `y_train.shape`: Displays the number of target labels corresponding to the training set.\n",
    "- `y_test.shape`: Displays the number of target labels corresponding to the test set.\n",
    "\n",
    "This is helpful for verifying that the split was performed correctly and to ensure the data is correctly partitioned before proceeding with model training.\n"
   ]
  },
  {
   "cell_type": "code",
   "execution_count": 129,
   "id": "a0a57886-0760-4a5b-b44d-ede9dd7e4a5d",
   "metadata": {},
   "outputs": [
    {
     "data": {
      "text/plain": [
       "((700, 7), (300, 7), (700,), (300,))"
      ]
     },
     "execution_count": 129,
     "metadata": {},
     "output_type": "execute_result"
    }
   ],
   "source": [
    "X_train.shape, X_test.shape, y_train.shape, y_test.shape"
   ]
  }
 ],
 "metadata": {
  "kernelspec": {
   "display_name": "Python 3 (ipykernel)",
   "language": "python",
   "name": "python3"
  },
  "language_info": {
   "codemirror_mode": {
    "name": "ipython",
    "version": 3
   },
   "file_extension": ".py",
   "mimetype": "text/x-python",
   "name": "python",
   "nbconvert_exporter": "python",
   "pygments_lexer": "ipython3",
   "version": "3.12.7"
  }
 },
 "nbformat": 4,
 "nbformat_minor": 5
}
